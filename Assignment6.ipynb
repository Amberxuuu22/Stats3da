{
 "cells": [
  {
   "cell_type": "raw",
   "metadata": {
    "vscode": {
     "languageId": "raw"
    }
   },
   "source": [
    "---\n",
    "title: STATS 3DA3\n",
    "subtitle: Homework Assignment 6\n",
    "author: \"Yuyang Chen,Siying Xu, Yiwen Yang\"\n",
    "date: 04/04/2024\n",
    "format: pdf\n",
    "header-includes:\n",
    "   - \\usepackage{amsmath}\n",
    "   - \\usepackage{bbm}\n",
    "   - \\usepackage{array}\n",
    "   - \\usepackage{multirow}\n",
    "   - \\usepackage{graphicx}\n",
    "   - \\usepackage{float}\n",
    "   - \\usepackage{apacite}\n",
    "   - \\usepackage{natbib}\n",
    "execute: \n",
    "  echo: true\n",
    "fontsize: 11pt\n",
    "geometry: margin = 1in\n",
    "linestretch: 1.5\n",
    "bibliography: ass6.bib\n",
    "---"
   ]
  },
  {
   "cell_type": "markdown",
   "metadata": {},
   "source": [
    "/newpage"
   ]
  },
  {
   "cell_type": "code",
   "execution_count": 59,
   "metadata": {},
   "outputs": [],
   "source": [
    "import pandas as pd\n",
    "import seaborn as sns\n",
    "import numpy as np\n",
    "import matplotlib.pyplot as plt\n",
    "\n",
    "from sklearn import neighbors\n",
    "from sklearn.cluster import KMeans\n",
    "from sklearn.impute import SimpleImputer\n",
    "from sklearn.preprocessing import StandardScaler, OneHotEncoder, scale\n",
    "from sklearn.compose import ColumnTransformer\n",
    "from sklearn.pipeline import Pipeline\n",
    "from sklearn.decomposition import PCA, TruncatedSVD, FactorAnalysis\n",
    "from sklearn.model_selection import train_test_split\n",
    "\n",
    "from scipy import stats"
   ]
  },
  {
   "cell_type": "code",
<<<<<<< HEAD
   "execution_count": null,
=======
   "execution_count": 60,
>>>>>>> f710c21aef2da01cdffe40f67ff3b2c3590c6f35
   "metadata": {},
   "outputs": [],
   "source": [
    "from ucimlrepo import fetch_ucirepo \n",
    "  \n",
    "# fetch dataset \n",
    "chronic_kidney_disease = fetch_ucirepo(id=336) \n",
    "  \n",
    "# data (as pandas dataframes) \n",
    "X = chronic_kidney_disease.data.features \n",
    "y = chronic_kidney_disease.data.targets "
   ]
  },
  {
   "cell_type": "code",
   "execution_count": 61,
   "metadata": {},
   "outputs": [],
   "source": [
    "kidney = pd.concat([X, pd.DataFrame(y, columns=[\"class\"])], axis=1)"
   ]
  },
  {
   "cell_type": "code",
   "execution_count": 7,
   "metadata": {},
   "outputs": [],
   "source": [
    "kidney = pd.read_csv('https://archive.ics.uci.edu/static/public/336/data.csv')"
   ]
  },
  {
   "cell_type": "markdown",
   "metadata": {},
   "source": [
    "(1)"
   ]
  },
  {
   "cell_type": "markdown",
   "metadata": {},
   "source": [
    "We can do a Binary Classification to predict whether a patient has chronic kidney disease base on other performance."
   ]
  },
  {
   "cell_type": "markdown",
   "metadata": {},
   "source": [
    "(2)"
   ]
  },
  {
   "cell_type": "code",
<<<<<<< HEAD
   "execution_count": 5,
=======
   "execution_count": 63,
   "metadata": {},
   "outputs": [
    {
     "name": "stderr",
     "output_type": "stream",
     "text": [
      "C:\\Users\\siyin\\AppData\\Local\\Temp\\ipykernel_13996\\1658675516.py:2: FutureWarning: Downcasting behavior in `replace` is deprecated and will be removed in a future version. To retain the old behavior, explicitly call `result.infer_objects(copy=False)`. To opt-in to the future behavior, set `pd.set_option('future.no_silent_downcasting', True)`\n",
      "  kidney[\"class\"] = kidney[\"class\"].replace({\"ckd\": 1, \"notckd\": 0})\n"
     ]
    }
   ],
   "source": [
    "kidney[\"class\"] = kidney[\"class\"].str.strip()\n",
    "kidney[\"class\"] = kidney[\"class\"].replace({\"ckd\": 1, \"notckd\": 0})"
   ]
  },
  {
   "cell_type": "code",
   "execution_count": 81,
>>>>>>> f710c21aef2da01cdffe40f67ff3b2c3590c6f35
   "metadata": {},
   "outputs": [],
   "source": [
    "Tra = {\n",
    "    'rbc': {'normal': 1.0, 'abnormal': 0},\n",
    "    'pc': {'normal': 1.0, 'abnormal': 0},\n",
    "    'pcc': {'present': 1.0, 'notpresent': 0},\n",
    "    'ba': {'present': 1.0, 'notpresent': 0},\n",
    "    'htn': {'yes': 1.0, 'no': 0},\n",
    "    'dm': {'yes': 1.0, 'no': 0},\n",
    "    'cad': {'yes': 1.0, 'no': 0},\n",
    "    'appet': {'good': 1.0, 'poor': 0},\n",
    "    'pe': {'yes': 1.0, 'no': 0},\n",
    "    'ane': {'yes': 1.0, 'no': 0},\n",
    "\n",
    "}"
   ]
  },
  {
   "cell_type": "code",
<<<<<<< HEAD
   "execution_count": 6,
   "metadata": {},
   "outputs": [
    {
     "ename": "NameError",
     "evalue": "name 'kidney' is not defined",
     "output_type": "error",
     "traceback": [
      "\u001b[0;31m---------------------------------------------------------------------------\u001b[0m",
      "\u001b[0;31mNameError\u001b[0m                                 Traceback (most recent call last)",
      "Cell \u001b[0;32mIn[6], line 2\u001b[0m\n\u001b[1;32m      1\u001b[0m \u001b[38;5;28;01mfor\u001b[39;00m column, Tra \u001b[38;5;129;01min\u001b[39;00m Tra\u001b[38;5;241m.\u001b[39mitems():\n\u001b[0;32m----> 2\u001b[0m     kidney[column] \u001b[38;5;241m=\u001b[39m \u001b[43mkidney\u001b[49m[column]\u001b[38;5;241m.\u001b[39mreplace(Tra)\n",
      "\u001b[0;31mNameError\u001b[0m: name 'kidney' is not defined"
     ]
    }
   ],
=======
   "execution_count": 82,
   "metadata": {},
   "outputs": [],
>>>>>>> f710c21aef2da01cdffe40f67ff3b2c3590c6f35
   "source": [
    "for column, Tra in Tra.items():\n",
    "    kidney[column] = kidney[column].replace(Tra)"
   ]
  },
  {
   "cell_type": "code",
   "execution_count": 83,
   "metadata": {},
   "outputs": [],
   "source": [
    "float_c = kidney.select_dtypes(include=['float64']).columns\n",
    "object_c = kidney.select_dtypes(include=['object']).columns"
   ]
  },
  {
   "cell_type": "code",
   "execution_count": 84,
   "metadata": {},
   "outputs": [],
   "source": [
    "scaler = StandardScaler()\n",
    "kidney[float_c] = scaler.fit_transform(kidney[float_c])"
   ]
  },
  {
   "cell_type": "markdown",
   "metadata": {},
   "source": [
    "(3)"
   ]
  },
  {
   "cell_type": "code",
<<<<<<< HEAD
   "execution_count": 10,
=======
   "execution_count": 85,
   "metadata": {},
   "outputs": [
    {
     "data": {
      "text/plain": [
       "(400, 25)"
      ]
     },
     "execution_count": 85,
     "metadata": {},
     "output_type": "execute_result"
    }
   ],
   "source": [
    "kidney.shape"
   ]
  },
  {
   "cell_type": "code",
   "execution_count": 86,
>>>>>>> f710c21aef2da01cdffe40f67ff3b2c3590c6f35
   "metadata": {},
   "outputs": [
    {
     "data": {
      "text/html": [
       "<div>\n",
       "<style scoped>\n",
       "    .dataframe tbody tr th:only-of-type {\n",
       "        vertical-align: middle;\n",
       "    }\n",
       "\n",
       "    .dataframe tbody tr th {\n",
       "        vertical-align: top;\n",
       "    }\n",
       "\n",
       "    .dataframe thead th {\n",
       "        text-align: right;\n",
       "    }\n",
       "</style>\n",
       "<table border=\"1\" class=\"dataframe\">\n",
       "  <thead>\n",
       "    <tr style=\"text-align: right;\">\n",
       "      <th></th>\n",
       "      <th>age</th>\n",
       "      <th>bp</th>\n",
       "      <th>sg</th>\n",
       "      <th>al</th>\n",
       "      <th>su</th>\n",
       "      <th>bgr</th>\n",
       "      <th>...</th>\n",
       "      <th>hemo</th>\n",
       "      <th>pcv</th>\n",
       "      <th>wbcc</th>\n",
       "      <th>rbcc</th>\n",
<<<<<<< HEAD
=======
       "      <th>htn</th>\n",
       "      <th>cad</th>\n",
       "      <th>appet</th>\n",
       "      <th>pe</th>\n",
       "      <th>ane</th>\n",
       "      <th>class</th>\n",
>>>>>>> f710c21aef2da01cdffe40f67ff3b2c3590c6f35
       "    </tr>\n",
       "  </thead>\n",
       "  <tbody>\n",
       "    <tr>\n",
       "      <th>count</th>\n",
<<<<<<< HEAD
       "      <td>391.000000</td>\n",
       "      <td>388.000000</td>\n",
       "      <td>353.000000</td>\n",
       "      <td>354.000000</td>\n",
       "      <td>351.000000</td>\n",
       "      <td>356.000000</td>\n",
       "      <td>381.000000</td>\n",
       "      <td>383.000000</td>\n",
       "      <td>313.000000</td>\n",
       "      <td>312.000000</td>\n",
       "      <td>348.000000</td>\n",
       "      <td>329.000000</td>\n",
       "      <td>294.000000</td>\n",
       "      <td>269.000000</td>\n",
       "    </tr>\n",
       "    <tr>\n",
       "      <th>mean</th>\n",
       "      <td>51.483376</td>\n",
       "      <td>76.469072</td>\n",
       "      <td>1.017408</td>\n",
       "      <td>1.016949</td>\n",
       "      <td>0.450142</td>\n",
       "      <td>148.036517</td>\n",
       "      <td>57.425722</td>\n",
       "      <td>3.072454</td>\n",
       "      <td>137.528754</td>\n",
       "      <td>4.627244</td>\n",
       "      <td>12.526437</td>\n",
       "      <td>38.884498</td>\n",
       "      <td>8406.122449</td>\n",
       "      <td>4.707435</td>\n",
       "    </tr>\n",
       "    <tr>\n",
       "      <th>std</th>\n",
       "      <td>17.169714</td>\n",
       "      <td>13.683637</td>\n",
       "      <td>0.005717</td>\n",
       "      <td>1.352679</td>\n",
       "      <td>1.099191</td>\n",
       "      <td>79.281714</td>\n",
       "      <td>50.503006</td>\n",
       "      <td>5.741126</td>\n",
       "      <td>10.408752</td>\n",
       "      <td>3.193904</td>\n",
       "      <td>2.912587</td>\n",
       "      <td>8.990105</td>\n",
       "      <td>2944.474190</td>\n",
       "      <td>1.025323</td>\n",
       "    </tr>\n",
       "    <tr>\n",
       "      <th>min</th>\n",
       "      <td>2.000000</td>\n",
       "      <td>50.000000</td>\n",
       "      <td>1.005000</td>\n",
=======
       "      <td>3.910000e+02</td>\n",
       "      <td>3.880000e+02</td>\n",
       "      <td>3.530000e+02</td>\n",
       "      <td>354.000000</td>\n",
       "      <td>351.000000</td>\n",
       "      <td>248.000000</td>\n",
       "      <td>335.000000</td>\n",
       "      <td>396.000000</td>\n",
       "      <td>396.000000</td>\n",
       "      <td>3.560000e+02</td>\n",
       "      <td>...</td>\n",
       "      <td>3.480000e+02</td>\n",
       "      <td>3.290000e+02</td>\n",
       "      <td>2.940000e+02</td>\n",
       "      <td>2.690000e+02</td>\n",
       "      <td>398.000000</td>\n",
       "      <td>398.000000</td>\n",
       "      <td>399.000000</td>\n",
       "      <td>399.000000</td>\n",
       "      <td>399.000000</td>\n",
       "      <td>400.000000</td>\n",
       "    </tr>\n",
       "    <tr>\n",
       "      <th>mean</th>\n",
       "      <td>9.994847e-17</td>\n",
       "      <td>-2.380684e-16</td>\n",
       "      <td>2.415443e-15</td>\n",
       "      <td>0.000000</td>\n",
       "      <td>0.000000</td>\n",
       "      <td>0.810484</td>\n",
       "      <td>0.773134</td>\n",
       "      <td>0.106061</td>\n",
       "      <td>0.055556</td>\n",
       "      <td>1.995907e-17</td>\n",
       "      <td>...</td>\n",
       "      <td>4.083579e-17</td>\n",
       "      <td>1.295823e-16</td>\n",
       "      <td>2.416812e-17</td>\n",
       "      <td>8.452553e-16</td>\n",
       "      <td>0.369347</td>\n",
       "      <td>0.085427</td>\n",
       "      <td>0.794486</td>\n",
       "      <td>0.190476</td>\n",
       "      <td>0.150376</td>\n",
       "      <td>0.625000</td>\n",
       "    </tr>\n",
       "    <tr>\n",
       "      <th>std</th>\n",
       "      <td>1.001281e+00</td>\n",
       "      <td>1.001291e+00</td>\n",
       "      <td>1.001419e+00</td>\n",
       "      <td>1.001415</td>\n",
       "      <td>1.001428</td>\n",
       "      <td>0.392711</td>\n",
       "      <td>0.419431</td>\n",
       "      <td>0.308305</td>\n",
       "      <td>0.229351</td>\n",
       "      <td>1.001407e+00</td>\n",
       "      <td>...</td>\n",
       "      <td>1.001440e+00</td>\n",
       "      <td>1.001523e+00</td>\n",
       "      <td>1.001705e+00</td>\n",
       "      <td>1.001864e+00</td>\n",
       "      <td>0.483235</td>\n",
       "      <td>0.279868</td>\n",
       "      <td>0.404584</td>\n",
       "      <td>0.393170</td>\n",
       "      <td>0.357888</td>\n",
       "      <td>0.484729</td>\n",
       "    </tr>\n",
       "    <tr>\n",
       "      <th>min</th>\n",
       "      <td>-2.885708e+00</td>\n",
       "      <td>-1.936857e+00</td>\n",
       "      <td>-2.173584e+00</td>\n",
       "      <td>-0.752868</td>\n",
       "      <td>-0.410106</td>\n",
       "      <td>0.000000</td>\n",
       "      <td>0.000000</td>\n",
       "      <td>0.000000</td>\n",
       "      <td>0.000000</td>\n",
       "      <td>-1.591967e+00</td>\n",
       "      <td>...</td>\n",
       "      <td>-3.241109e+00</td>\n",
       "      <td>-3.329218e+00</td>\n",
       "      <td>-2.111312e+00</td>\n",
       "      <td>-2.547777e+00</td>\n",
       "      <td>0.000000</td>\n",
       "      <td>0.000000</td>\n",
       "      <td>0.000000</td>\n",
       "      <td>0.000000</td>\n",
       "      <td>0.000000</td>\n",
>>>>>>> f710c21aef2da01cdffe40f67ff3b2c3590c6f35
       "      <td>0.000000</td>\n",
       "      <td>0.000000</td>\n",
       "      <td>22.000000</td>\n",
       "      <td>1.500000</td>\n",
       "      <td>0.400000</td>\n",
       "      <td>4.500000</td>\n",
       "      <td>2.500000</td>\n",
       "      <td>3.100000</td>\n",
       "      <td>9.000000</td>\n",
       "      <td>2200.000000</td>\n",
       "      <td>2.100000</td>\n",
       "    </tr>\n",
       "    <tr>\n",
       "      <th>25%</th>\n",
<<<<<<< HEAD
       "      <td>42.000000</td>\n",
       "      <td>70.000000</td>\n",
       "      <td>1.010000</td>\n",
=======
       "      <td>-5.530393e-01</td>\n",
       "      <td>-4.733701e-01</td>\n",
       "      <td>-1.297699e+00</td>\n",
       "      <td>-0.752868</td>\n",
       "      <td>-0.410106</td>\n",
       "      <td>1.000000</td>\n",
       "      <td>1.000000</td>\n",
       "      <td>0.000000</td>\n",
       "      <td>0.000000</td>\n",
       "      <td>-6.193803e-01</td>\n",
       "      <td>...</td>\n",
       "      <td>-7.655198e-01</td>\n",
       "      <td>-7.669527e-01</td>\n",
       "      <td>-6.484596e-01</td>\n",
       "      <td>-7.889609e-01</td>\n",
       "      <td>0.000000</td>\n",
       "      <td>0.000000</td>\n",
       "      <td>1.000000</td>\n",
       "      <td>0.000000</td>\n",
       "      <td>0.000000</td>\n",
>>>>>>> f710c21aef2da01cdffe40f67ff3b2c3590c6f35
       "      <td>0.000000</td>\n",
       "      <td>0.000000</td>\n",
       "      <td>99.000000</td>\n",
       "      <td>27.000000</td>\n",
       "      <td>0.900000</td>\n",
       "      <td>135.000000</td>\n",
       "      <td>3.800000</td>\n",
       "      <td>10.300000</td>\n",
       "      <td>32.000000</td>\n",
       "      <td>6500.000000</td>\n",
       "      <td>3.900000</td>\n",
       "    </tr>\n",
       "    <tr>\n",
       "      <th>50%</th>\n",
<<<<<<< HEAD
       "      <td>55.000000</td>\n",
       "      <td>80.000000</td>\n",
       "      <td>1.020000</td>\n",
       "      <td>0.000000</td>\n",
       "      <td>0.000000</td>\n",
       "      <td>121.000000</td>\n",
       "      <td>42.000000</td>\n",
       "      <td>1.300000</td>\n",
       "      <td>138.000000</td>\n",
       "      <td>4.400000</td>\n",
       "      <td>12.650000</td>\n",
       "      <td>40.000000</td>\n",
       "      <td>8000.000000</td>\n",
       "      <td>4.800000</td>\n",
       "    </tr>\n",
       "    <tr>\n",
       "      <th>75%</th>\n",
       "      <td>64.500000</td>\n",
       "      <td>80.000000</td>\n",
       "      <td>1.020000</td>\n",
       "      <td>2.000000</td>\n",
       "      <td>0.000000</td>\n",
       "      <td>163.000000</td>\n",
       "      <td>66.000000</td>\n",
       "      <td>2.800000</td>\n",
       "      <td>142.000000</td>\n",
       "      <td>4.900000</td>\n",
       "      <td>15.000000</td>\n",
       "      <td>45.000000</td>\n",
       "      <td>9800.000000</td>\n",
       "      <td>5.400000</td>\n",
       "    </tr>\n",
       "    <tr>\n",
       "      <th>max</th>\n",
       "      <td>90.000000</td>\n",
       "      <td>180.000000</td>\n",
       "      <td>1.025000</td>\n",
       "      <td>5.000000</td>\n",
       "      <td>5.000000</td>\n",
       "      <td>490.000000</td>\n",
       "      <td>391.000000</td>\n",
       "      <td>76.000000</td>\n",
       "      <td>163.000000</td>\n",
       "      <td>47.000000</td>\n",
       "      <td>17.800000</td>\n",
       "      <td>54.000000</td>\n",
       "      <td>26400.000000</td>\n",
       "      <td>8.000000</td>\n",
=======
       "      <td>2.050779e-01</td>\n",
       "      <td>2.583733e-01</td>\n",
       "      <td>4.540705e-01</td>\n",
       "      <td>-0.752868</td>\n",
       "      <td>-0.410106</td>\n",
       "      <td>1.000000</td>\n",
       "      <td>1.000000</td>\n",
       "      <td>0.000000</td>\n",
       "      <td>0.000000</td>\n",
       "      <td>-3.414983e-01</td>\n",
       "      <td>...</td>\n",
       "      <td>4.248496e-02</td>\n",
       "      <td>1.242700e-01</td>\n",
       "      <td>-1.381622e-01</td>\n",
       "      <td>9.044717e-02</td>\n",
       "      <td>0.000000</td>\n",
       "      <td>0.000000</td>\n",
       "      <td>1.000000</td>\n",
       "      <td>0.000000</td>\n",
       "      <td>0.000000</td>\n",
       "      <td>1.000000</td>\n",
       "    </tr>\n",
       "    <tr>\n",
       "      <th>75%</th>\n",
       "      <td>7.590867e-01</td>\n",
       "      <td>2.583733e-01</td>\n",
       "      <td>4.540705e-01</td>\n",
       "      <td>0.727772</td>\n",
       "      <td>-0.410106</td>\n",
       "      <td>1.000000</td>\n",
       "      <td>1.000000</td>\n",
       "      <td>0.000000</td>\n",
       "      <td>0.000000</td>\n",
       "      <td>1.890038e-01</td>\n",
       "      <td>...</td>\n",
       "      <td>8.504897e-01</td>\n",
       "      <td>6.812843e-01</td>\n",
       "      <td>4.741947e-01</td>\n",
       "      <td>6.767192e-01</td>\n",
       "      <td>1.000000</td>\n",
       "      <td>0.000000</td>\n",
       "      <td>1.000000</td>\n",
       "      <td>0.000000</td>\n",
       "      <td>0.000000</td>\n",
       "      <td>1.000000</td>\n",
       "    </tr>\n",
       "    <tr>\n",
       "      <th>max</th>\n",
       "      <td>2.246163e+00</td>\n",
       "      <td>7.575807e+00</td>\n",
       "      <td>1.329955e+00</td>\n",
       "      <td>2.948733</td>\n",
       "      <td>4.145186</td>\n",
       "      <td>1.000000</td>\n",
       "      <td>1.000000</td>\n",
       "      <td>1.000000</td>\n",
       "      <td>1.000000</td>\n",
       "      <td>4.319341e+00</td>\n",
       "      <td>...</td>\n",
       "      <td>1.813219e+00</td>\n",
       "      <td>1.683910e+00</td>\n",
       "      <td>6.121486e+00</td>\n",
       "      <td>3.217231e+00</td>\n",
       "      <td>1.000000</td>\n",
       "      <td>1.000000</td>\n",
       "      <td>1.000000</td>\n",
       "      <td>1.000000</td>\n",
       "      <td>1.000000</td>\n",
       "      <td>1.000000</td>\n",
>>>>>>> f710c21aef2da01cdffe40f67ff3b2c3590c6f35
       "    </tr>\n",
       "  </tbody>\n",
       "</table>\n",
       "<p>8 rows × 24 columns</p>\n",
       "</div>"
      ],
      "text/plain": [
<<<<<<< HEAD
       "              age          bp          sg          al          su         bgr  \\\n",
       "count  391.000000  388.000000  353.000000  354.000000  351.000000  356.000000   \n",
       "mean    51.483376   76.469072    1.017408    1.016949    0.450142  148.036517   \n",
       "std     17.169714   13.683637    0.005717    1.352679    1.099191   79.281714   \n",
       "min      2.000000   50.000000    1.005000    0.000000    0.000000   22.000000   \n",
       "25%     42.000000   70.000000    1.010000    0.000000    0.000000   99.000000   \n",
       "50%     55.000000   80.000000    1.020000    0.000000    0.000000  121.000000   \n",
       "75%     64.500000   80.000000    1.020000    2.000000    0.000000  163.000000   \n",
       "max     90.000000  180.000000    1.025000    5.000000    5.000000  490.000000   \n",
       "\n",
       "               bu          sc         sod         pot        hemo         pcv  \\\n",
       "count  381.000000  383.000000  313.000000  312.000000  348.000000  329.000000   \n",
       "mean    57.425722    3.072454  137.528754    4.627244   12.526437   38.884498   \n",
       "std     50.503006    5.741126   10.408752    3.193904    2.912587    8.990105   \n",
       "min      1.500000    0.400000    4.500000    2.500000    3.100000    9.000000   \n",
       "25%     27.000000    0.900000  135.000000    3.800000   10.300000   32.000000   \n",
       "50%     42.000000    1.300000  138.000000    4.400000   12.650000   40.000000   \n",
       "75%     66.000000    2.800000  142.000000    4.900000   15.000000   45.000000   \n",
       "max    391.000000   76.000000  163.000000   47.000000   17.800000   54.000000   \n",
       "\n",
       "               wbcc        rbcc  \n",
       "count    294.000000  269.000000  \n",
       "mean    8406.122449    4.707435  \n",
       "std     2944.474190    1.025323  \n",
       "min     2200.000000    2.100000  \n",
       "25%     6500.000000    3.900000  \n",
       "50%     8000.000000    4.800000  \n",
       "75%     9800.000000    5.400000  \n",
       "max    26400.000000    8.000000  "
      ]
     },
     "execution_count": 10,
=======
       "                age            bp            sg          al          su  \\\n",
       "count  3.910000e+02  3.880000e+02  3.530000e+02  354.000000  351.000000   \n",
       "mean   9.994847e-17 -2.380684e-16  2.415443e-15    0.000000    0.000000   \n",
       "std    1.001281e+00  1.001291e+00  1.001419e+00    1.001415    1.001428   \n",
       "min   -2.885708e+00 -1.936857e+00 -2.173584e+00   -0.752868   -0.410106   \n",
       "25%   -5.530393e-01 -4.733701e-01 -1.297699e+00   -0.752868   -0.410106   \n",
       "50%    2.050779e-01  2.583733e-01  4.540705e-01   -0.752868   -0.410106   \n",
       "75%    7.590867e-01  2.583733e-01  4.540705e-01    0.727772   -0.410106   \n",
       "max    2.246163e+00  7.575807e+00  1.329955e+00    2.948733    4.145186   \n",
       "\n",
       "              rbc          pc         pcc          ba           bgr  ...  \\\n",
       "count  248.000000  335.000000  396.000000  396.000000  3.560000e+02  ...   \n",
       "mean     0.810484    0.773134    0.106061    0.055556  1.995907e-17  ...   \n",
       "std      0.392711    0.419431    0.308305    0.229351  1.001407e+00  ...   \n",
       "min      0.000000    0.000000    0.000000    0.000000 -1.591967e+00  ...   \n",
       "25%      1.000000    1.000000    0.000000    0.000000 -6.193803e-01  ...   \n",
       "50%      1.000000    1.000000    0.000000    0.000000 -3.414983e-01  ...   \n",
       "75%      1.000000    1.000000    0.000000    0.000000  1.890038e-01  ...   \n",
       "max      1.000000    1.000000    1.000000    1.000000  4.319341e+00  ...   \n",
       "\n",
       "               hemo           pcv          wbcc          rbcc         htn  \\\n",
       "count  3.480000e+02  3.290000e+02  2.940000e+02  2.690000e+02  398.000000   \n",
       "mean   4.083579e-17  1.295823e-16  2.416812e-17  8.452553e-16    0.369347   \n",
       "std    1.001440e+00  1.001523e+00  1.001705e+00  1.001864e+00    0.483235   \n",
       "min   -3.241109e+00 -3.329218e+00 -2.111312e+00 -2.547777e+00    0.000000   \n",
       "25%   -7.655198e-01 -7.669527e-01 -6.484596e-01 -7.889609e-01    0.000000   \n",
       "50%    4.248496e-02  1.242700e-01 -1.381622e-01  9.044717e-02    0.000000   \n",
       "75%    8.504897e-01  6.812843e-01  4.741947e-01  6.767192e-01    1.000000   \n",
       "max    1.813219e+00  1.683910e+00  6.121486e+00  3.217231e+00    1.000000   \n",
       "\n",
       "              cad       appet          pe         ane       class  \n",
       "count  398.000000  399.000000  399.000000  399.000000  400.000000  \n",
       "mean     0.085427    0.794486    0.190476    0.150376    0.625000  \n",
       "std      0.279868    0.404584    0.393170    0.357888    0.484729  \n",
       "min      0.000000    0.000000    0.000000    0.000000    0.000000  \n",
       "25%      0.000000    1.000000    0.000000    0.000000    0.000000  \n",
       "50%      0.000000    1.000000    0.000000    0.000000    1.000000  \n",
       "75%      0.000000    1.000000    0.000000    0.000000    1.000000  \n",
       "max      1.000000    1.000000    1.000000    1.000000    1.000000  \n",
       "\n",
       "[8 rows x 24 columns]"
      ]
     },
     "execution_count": 86,
>>>>>>> f710c21aef2da01cdffe40f67ff3b2c3590c6f35
     "metadata": {},
     "output_type": "execute_result"
    }
   ],
   "source": [
    "kidney.describe()"
   ]
  },
  {
   "cell_type": "markdown",
   "metadata": {},
   "source": [
    "There are 25 variables and 400 observations.\n",
    "\n",
    "There are 11 numerical variables and 14 nominal variables."
   ]
  },
  {
   "cell_type": "markdown",
   "metadata": {},
   "source": [
    "(4)"
   ]
  },
  {
<<<<<<< HEAD
   "cell_type": "markdown",
   "metadata": {},
=======
   "cell_type": "code",
   "execution_count": 31,
   "metadata": {},
   "outputs": [
    {
     "data": {
      "image/png": "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",
      "text/plain": [
       "<Figure size 1000x800 with 2 Axes>"
      ]
     },
     "metadata": {},
     "output_type": "display_data"
    }
   ],
   "source": [
    "# 1. Correlation matrix for numerical variables\n",
    "numerical_vars = ['age', 'bp', 'sg', 'bgr', 'bu', 'sc', 'sod', 'pot', 'hemo' , 'pcv','wbcc', 'rbcc']\n",
    "\n",
    "correlation_matrix = kidney[numerical_vars].corr()\n",
    "\n",
    "# Plot the correlation matrix\n",
    "plt.figure(figsize=(10, 8))\n",
    "sns.heatmap(correlation_matrix, annot=True)\n",
    "plt.title('Correlation Matrix of Numerical Variables')\n",
    "plt.show()"
   ]
  },
  {
   "cell_type": "code",
   "execution_count": null,
   "metadata": {},
   "outputs": [],
   "source": []
  },
  {
   "cell_type": "markdown",
   "metadata": {},
>>>>>>> f710c21aef2da01cdffe40f67ff3b2c3590c6f35
   "source": [
    "(5)"
   ]
  },
  {
   "cell_type": "code",
   "execution_count": 32,
   "metadata": {},
   "outputs": [],
   "source": [
    "kidney_cleaned = kidney.dropna()\n",
    "kidney_new = kidney_cleaned[float_c]"
   ]
  },
  {
   "cell_type": "code",
   "execution_count": 33,
   "metadata": {},
   "outputs": [
    {
     "data": {
      "text/plain": [
       "age      float64\n",
       "bp       float64\n",
       "sg       float64\n",
       "al       float64\n",
       "su       float64\n",
       "rbc      float64\n",
       "pc       float64\n",
       "pcc      float64\n",
       "ba       float64\n",
       "bgr      float64\n",
       "bu       float64\n",
       "sc       float64\n",
       "sod      float64\n",
       "pot      float64\n",
       "hemo     float64\n",
       "pcv      float64\n",
       "wbcc     float64\n",
       "rbcc     float64\n",
       "htn      float64\n",
       "dm        object\n",
       "cad      float64\n",
       "appet    float64\n",
       "pe       float64\n",
       "ane      float64\n",
       "class      int64\n",
       "dtype: object"
      ]
     },
     "execution_count": 33,
     "metadata": {},
     "output_type": "execute_result"
    }
   ],
   "source": [
    "kidney_cleaned.dtypes"
   ]
  },
  {
   "cell_type": "markdown",
   "metadata": {},
   "source": [
    "(6)"
   ]
  },
  {
   "cell_type": "code",
   "execution_count": 34,
   "metadata": {},
   "outputs": [],
   "source": [
    "z_score = np.abs(stats.zscore(kidney_new))\n",
    "outliers = np.where(z_score > 3)\n",
    "kidney_no_outliers = kidney_new[(z_score < 3).all(axis=1)]"
   ]
  },
  {
   "cell_type": "markdown",
   "metadata": {},
   "source": [
    "(7)"
   ]
  },
  {
   "cell_type": "code",
   "execution_count": 39,
   "metadata": {},
   "outputs": [],
   "source": [
    "x = kidney_new.drop('classification', axis=1)\n",
    "pca_x = PCA()\n",
    "pca = pd.DataFrame(pca_x.fit(x).components_.T, index=x.columns)"
   ]
  },
  {
   "cell_type": "code",
   "execution_count": 40,
   "metadata": {},
   "outputs": [
    {
     "data": {
      "text/plain": [
       "3      5.268720\n",
       "9      4.902281\n",
       "11     4.970530\n",
       "14     7.873978\n",
       "20     5.964796\n",
       "         ...   \n",
       "395   -1.429604\n",
       "396   -2.536090\n",
       "397   -1.893657\n",
       "398   -2.059620\n",
       "399   -2.230414\n",
       "Name: 0, Length: 158, dtype: float64"
      ]
     },
     "execution_count": 40,
     "metadata": {},
     "output_type": "execute_result"
    }
   ],
   "source": [
    "scores = pd.DataFrame(pca_x.fit_transform(x), index=x.index)\n",
    "scores[0]"
   ]
  },
  {
   "cell_type": "code",
   "execution_count": 41,
   "metadata": {},
   "outputs": [
    {
     "data": {
      "text/html": [
       "<style>#sk-container-id-1 {\n",
       "  /* Definition of color scheme common for light and dark mode */\n",
       "  --sklearn-color-text: black;\n",
       "  --sklearn-color-line: gray;\n",
       "  /* Definition of color scheme for unfitted estimators */\n",
       "  --sklearn-color-unfitted-level-0: #fff5e6;\n",
       "  --sklearn-color-unfitted-level-1: #f6e4d2;\n",
       "  --sklearn-color-unfitted-level-2: #ffe0b3;\n",
       "  --sklearn-color-unfitted-level-3: chocolate;\n",
       "  /* Definition of color scheme for fitted estimators */\n",
       "  --sklearn-color-fitted-level-0: #f0f8ff;\n",
       "  --sklearn-color-fitted-level-1: #d4ebff;\n",
       "  --sklearn-color-fitted-level-2: #b3dbfd;\n",
       "  --sklearn-color-fitted-level-3: cornflowerblue;\n",
       "\n",
       "  /* Specific color for light theme */\n",
       "  --sklearn-color-text-on-default-background: var(--sg-text-color, var(--theme-code-foreground, var(--jp-content-font-color1, black)));\n",
       "  --sklearn-color-background: var(--sg-background-color, var(--theme-background, var(--jp-layout-color0, white)));\n",
       "  --sklearn-color-border-box: var(--sg-text-color, var(--theme-code-foreground, var(--jp-content-font-color1, black)));\n",
       "  --sklearn-color-icon: #696969;\n",
       "\n",
       "  @media (prefers-color-scheme: dark) {\n",
       "    /* Redefinition of color scheme for dark theme */\n",
       "    --sklearn-color-text-on-default-background: var(--sg-text-color, var(--theme-code-foreground, var(--jp-content-font-color1, white)));\n",
       "    --sklearn-color-background: var(--sg-background-color, var(--theme-background, var(--jp-layout-color0, #111)));\n",
       "    --sklearn-color-border-box: var(--sg-text-color, var(--theme-code-foreground, var(--jp-content-font-color1, white)));\n",
       "    --sklearn-color-icon: #878787;\n",
       "  }\n",
       "}\n",
       "\n",
       "#sk-container-id-1 {\n",
       "  color: var(--sklearn-color-text);\n",
       "}\n",
       "\n",
       "#sk-container-id-1 pre {\n",
       "  padding: 0;\n",
       "}\n",
       "\n",
       "#sk-container-id-1 input.sk-hidden--visually {\n",
       "  border: 0;\n",
       "  clip: rect(1px 1px 1px 1px);\n",
       "  clip: rect(1px, 1px, 1px, 1px);\n",
       "  height: 1px;\n",
       "  margin: -1px;\n",
       "  overflow: hidden;\n",
       "  padding: 0;\n",
       "  position: absolute;\n",
       "  width: 1px;\n",
       "}\n",
       "\n",
       "#sk-container-id-1 div.sk-dashed-wrapped {\n",
       "  border: 1px dashed var(--sklearn-color-line);\n",
       "  margin: 0 0.4em 0.5em 0.4em;\n",
       "  box-sizing: border-box;\n",
       "  padding-bottom: 0.4em;\n",
       "  background-color: var(--sklearn-color-background);\n",
       "}\n",
       "\n",
       "#sk-container-id-1 div.sk-container {\n",
       "  /* jupyter's `normalize.less` sets `[hidden] { display: none; }`\n",
       "     but bootstrap.min.css set `[hidden] { display: none !important; }`\n",
       "     so we also need the `!important` here to be able to override the\n",
       "     default hidden behavior on the sphinx rendered scikit-learn.org.\n",
       "     See: https://github.com/scikit-learn/scikit-learn/issues/21755 */\n",
       "  display: inline-block !important;\n",
       "  position: relative;\n",
       "}\n",
       "\n",
       "#sk-container-id-1 div.sk-text-repr-fallback {\n",
       "  display: none;\n",
       "}\n",
       "\n",
       "div.sk-parallel-item,\n",
       "div.sk-serial,\n",
       "div.sk-item {\n",
       "  /* draw centered vertical line to link estimators */\n",
       "  background-image: linear-gradient(var(--sklearn-color-text-on-default-background), var(--sklearn-color-text-on-default-background));\n",
       "  background-size: 2px 100%;\n",
       "  background-repeat: no-repeat;\n",
       "  background-position: center center;\n",
       "}\n",
       "\n",
       "/* Parallel-specific style estimator block */\n",
       "\n",
       "#sk-container-id-1 div.sk-parallel-item::after {\n",
       "  content: \"\";\n",
       "  width: 100%;\n",
       "  border-bottom: 2px solid var(--sklearn-color-text-on-default-background);\n",
       "  flex-grow: 1;\n",
       "}\n",
       "\n",
       "#sk-container-id-1 div.sk-parallel {\n",
       "  display: flex;\n",
       "  align-items: stretch;\n",
       "  justify-content: center;\n",
       "  background-color: var(--sklearn-color-background);\n",
       "  position: relative;\n",
       "}\n",
       "\n",
       "#sk-container-id-1 div.sk-parallel-item {\n",
       "  display: flex;\n",
       "  flex-direction: column;\n",
       "}\n",
       "\n",
       "#sk-container-id-1 div.sk-parallel-item:first-child::after {\n",
       "  align-self: flex-end;\n",
       "  width: 50%;\n",
       "}\n",
       "\n",
       "#sk-container-id-1 div.sk-parallel-item:last-child::after {\n",
       "  align-self: flex-start;\n",
       "  width: 50%;\n",
       "}\n",
       "\n",
       "#sk-container-id-1 div.sk-parallel-item:only-child::after {\n",
       "  width: 0;\n",
       "}\n",
       "\n",
       "/* Serial-specific style estimator block */\n",
       "\n",
       "#sk-container-id-1 div.sk-serial {\n",
       "  display: flex;\n",
       "  flex-direction: column;\n",
       "  align-items: center;\n",
       "  background-color: var(--sklearn-color-background);\n",
       "  padding-right: 1em;\n",
       "  padding-left: 1em;\n",
       "}\n",
       "\n",
       "\n",
       "/* Toggleable style: style used for estimator/Pipeline/ColumnTransformer box that is\n",
       "clickable and can be expanded/collapsed.\n",
       "- Pipeline and ColumnTransformer use this feature and define the default style\n",
       "- Estimators will overwrite some part of the style using the `sk-estimator` class\n",
       "*/\n",
       "\n",
       "/* Pipeline and ColumnTransformer style (default) */\n",
       "\n",
       "#sk-container-id-1 div.sk-toggleable {\n",
       "  /* Default theme specific background. It is overwritten whether we have a\n",
       "  specific estimator or a Pipeline/ColumnTransformer */\n",
       "  background-color: var(--sklearn-color-background);\n",
       "}\n",
       "\n",
       "/* Toggleable label */\n",
       "#sk-container-id-1 label.sk-toggleable__label {\n",
       "  cursor: pointer;\n",
       "  display: block;\n",
       "  width: 100%;\n",
       "  margin-bottom: 0;\n",
       "  padding: 0.5em;\n",
       "  box-sizing: border-box;\n",
       "  text-align: center;\n",
       "}\n",
       "\n",
       "#sk-container-id-1 label.sk-toggleable__label-arrow:before {\n",
       "  /* Arrow on the left of the label */\n",
       "  content: \"▸\";\n",
       "  float: left;\n",
       "  margin-right: 0.25em;\n",
       "  color: var(--sklearn-color-icon);\n",
       "}\n",
       "\n",
       "#sk-container-id-1 label.sk-toggleable__label-arrow:hover:before {\n",
       "  color: var(--sklearn-color-text);\n",
       "}\n",
       "\n",
       "/* Toggleable content - dropdown */\n",
       "\n",
       "#sk-container-id-1 div.sk-toggleable__content {\n",
       "  max-height: 0;\n",
       "  max-width: 0;\n",
       "  overflow: hidden;\n",
       "  text-align: left;\n",
       "  /* unfitted */\n",
       "  background-color: var(--sklearn-color-unfitted-level-0);\n",
       "}\n",
       "\n",
       "#sk-container-id-1 div.sk-toggleable__content.fitted {\n",
       "  /* fitted */\n",
       "  background-color: var(--sklearn-color-fitted-level-0);\n",
       "}\n",
       "\n",
       "#sk-container-id-1 div.sk-toggleable__content pre {\n",
       "  margin: 0.2em;\n",
       "  border-radius: 0.25em;\n",
       "  color: var(--sklearn-color-text);\n",
       "  /* unfitted */\n",
       "  background-color: var(--sklearn-color-unfitted-level-0);\n",
       "}\n",
       "\n",
       "#sk-container-id-1 div.sk-toggleable__content.fitted pre {\n",
       "  /* unfitted */\n",
       "  background-color: var(--sklearn-color-fitted-level-0);\n",
       "}\n",
       "\n",
       "#sk-container-id-1 input.sk-toggleable__control:checked~div.sk-toggleable__content {\n",
       "  /* Expand drop-down */\n",
       "  max-height: 200px;\n",
       "  max-width: 100%;\n",
       "  overflow: auto;\n",
       "}\n",
       "\n",
       "#sk-container-id-1 input.sk-toggleable__control:checked~label.sk-toggleable__label-arrow:before {\n",
       "  content: \"▾\";\n",
       "}\n",
       "\n",
       "/* Pipeline/ColumnTransformer-specific style */\n",
       "\n",
       "#sk-container-id-1 div.sk-label input.sk-toggleable__control:checked~label.sk-toggleable__label {\n",
       "  color: var(--sklearn-color-text);\n",
       "  background-color: var(--sklearn-color-unfitted-level-2);\n",
       "}\n",
       "\n",
       "#sk-container-id-1 div.sk-label.fitted input.sk-toggleable__control:checked~label.sk-toggleable__label {\n",
       "  background-color: var(--sklearn-color-fitted-level-2);\n",
       "}\n",
       "\n",
       "/* Estimator-specific style */\n",
       "\n",
       "/* Colorize estimator box */\n",
       "#sk-container-id-1 div.sk-estimator input.sk-toggleable__control:checked~label.sk-toggleable__label {\n",
       "  /* unfitted */\n",
       "  background-color: var(--sklearn-color-unfitted-level-2);\n",
       "}\n",
       "\n",
       "#sk-container-id-1 div.sk-estimator.fitted input.sk-toggleable__control:checked~label.sk-toggleable__label {\n",
       "  /* fitted */\n",
       "  background-color: var(--sklearn-color-fitted-level-2);\n",
       "}\n",
       "\n",
       "#sk-container-id-1 div.sk-label label.sk-toggleable__label,\n",
       "#sk-container-id-1 div.sk-label label {\n",
       "  /* The background is the default theme color */\n",
       "  color: var(--sklearn-color-text-on-default-background);\n",
       "}\n",
       "\n",
       "/* On hover, darken the color of the background */\n",
       "#sk-container-id-1 div.sk-label:hover label.sk-toggleable__label {\n",
       "  color: var(--sklearn-color-text);\n",
       "  background-color: var(--sklearn-color-unfitted-level-2);\n",
       "}\n",
       "\n",
       "/* Label box, darken color on hover, fitted */\n",
       "#sk-container-id-1 div.sk-label.fitted:hover label.sk-toggleable__label.fitted {\n",
       "  color: var(--sklearn-color-text);\n",
       "  background-color: var(--sklearn-color-fitted-level-2);\n",
       "}\n",
       "\n",
       "/* Estimator label */\n",
       "\n",
       "#sk-container-id-1 div.sk-label label {\n",
       "  font-family: monospace;\n",
       "  font-weight: bold;\n",
       "  display: inline-block;\n",
       "  line-height: 1.2em;\n",
       "}\n",
       "\n",
       "#sk-container-id-1 div.sk-label-container {\n",
       "  text-align: center;\n",
       "}\n",
       "\n",
       "/* Estimator-specific */\n",
       "#sk-container-id-1 div.sk-estimator {\n",
       "  font-family: monospace;\n",
       "  border: 1px dotted var(--sklearn-color-border-box);\n",
       "  border-radius: 0.25em;\n",
       "  box-sizing: border-box;\n",
       "  margin-bottom: 0.5em;\n",
       "  /* unfitted */\n",
       "  background-color: var(--sklearn-color-unfitted-level-0);\n",
       "}\n",
       "\n",
       "#sk-container-id-1 div.sk-estimator.fitted {\n",
       "  /* fitted */\n",
       "  background-color: var(--sklearn-color-fitted-level-0);\n",
       "}\n",
       "\n",
       "/* on hover */\n",
       "#sk-container-id-1 div.sk-estimator:hover {\n",
       "  /* unfitted */\n",
       "  background-color: var(--sklearn-color-unfitted-level-2);\n",
       "}\n",
       "\n",
       "#sk-container-id-1 div.sk-estimator.fitted:hover {\n",
       "  /* fitted */\n",
       "  background-color: var(--sklearn-color-fitted-level-2);\n",
       "}\n",
       "\n",
       "/* Specification for estimator info (e.g. \"i\" and \"?\") */\n",
       "\n",
       "/* Common style for \"i\" and \"?\" */\n",
       "\n",
       ".sk-estimator-doc-link,\n",
       "a:link.sk-estimator-doc-link,\n",
       "a:visited.sk-estimator-doc-link {\n",
       "  float: right;\n",
       "  font-size: smaller;\n",
       "  line-height: 1em;\n",
       "  font-family: monospace;\n",
       "  background-color: var(--sklearn-color-background);\n",
       "  border-radius: 1em;\n",
       "  height: 1em;\n",
       "  width: 1em;\n",
       "  text-decoration: none !important;\n",
       "  margin-left: 1ex;\n",
       "  /* unfitted */\n",
       "  border: var(--sklearn-color-unfitted-level-1) 1pt solid;\n",
       "  color: var(--sklearn-color-unfitted-level-1);\n",
       "}\n",
       "\n",
       ".sk-estimator-doc-link.fitted,\n",
       "a:link.sk-estimator-doc-link.fitted,\n",
       "a:visited.sk-estimator-doc-link.fitted {\n",
       "  /* fitted */\n",
       "  border: var(--sklearn-color-fitted-level-1) 1pt solid;\n",
       "  color: var(--sklearn-color-fitted-level-1);\n",
       "}\n",
       "\n",
       "/* On hover */\n",
       "div.sk-estimator:hover .sk-estimator-doc-link:hover,\n",
       ".sk-estimator-doc-link:hover,\n",
       "div.sk-label-container:hover .sk-estimator-doc-link:hover,\n",
       ".sk-estimator-doc-link:hover {\n",
       "  /* unfitted */\n",
       "  background-color: var(--sklearn-color-unfitted-level-3);\n",
       "  color: var(--sklearn-color-background);\n",
       "  text-decoration: none;\n",
       "}\n",
       "\n",
       "div.sk-estimator.fitted:hover .sk-estimator-doc-link.fitted:hover,\n",
       ".sk-estimator-doc-link.fitted:hover,\n",
       "div.sk-label-container:hover .sk-estimator-doc-link.fitted:hover,\n",
       ".sk-estimator-doc-link.fitted:hover {\n",
       "  /* fitted */\n",
       "  background-color: var(--sklearn-color-fitted-level-3);\n",
       "  color: var(--sklearn-color-background);\n",
       "  text-decoration: none;\n",
       "}\n",
       "\n",
       "/* Span, style for the box shown on hovering the info icon */\n",
       ".sk-estimator-doc-link span {\n",
       "  display: none;\n",
       "  z-index: 9999;\n",
       "  position: relative;\n",
       "  font-weight: normal;\n",
       "  right: .2ex;\n",
       "  padding: .5ex;\n",
       "  margin: .5ex;\n",
       "  width: min-content;\n",
       "  min-width: 20ex;\n",
       "  max-width: 50ex;\n",
       "  color: var(--sklearn-color-text);\n",
       "  box-shadow: 2pt 2pt 4pt #999;\n",
       "  /* unfitted */\n",
       "  background: var(--sklearn-color-unfitted-level-0);\n",
       "  border: .5pt solid var(--sklearn-color-unfitted-level-3);\n",
       "}\n",
       "\n",
       ".sk-estimator-doc-link.fitted span {\n",
       "  /* fitted */\n",
       "  background: var(--sklearn-color-fitted-level-0);\n",
       "  border: var(--sklearn-color-fitted-level-3);\n",
       "}\n",
       "\n",
       ".sk-estimator-doc-link:hover span {\n",
       "  display: block;\n",
       "}\n",
       "\n",
       "/* \"?\"-specific style due to the `<a>` HTML tag */\n",
       "\n",
       "#sk-container-id-1 a.estimator_doc_link {\n",
       "  float: right;\n",
       "  font-size: 1rem;\n",
       "  line-height: 1em;\n",
       "  font-family: monospace;\n",
       "  background-color: var(--sklearn-color-background);\n",
       "  border-radius: 1rem;\n",
       "  height: 1rem;\n",
       "  width: 1rem;\n",
       "  text-decoration: none;\n",
       "  /* unfitted */\n",
       "  color: var(--sklearn-color-unfitted-level-1);\n",
       "  border: var(--sklearn-color-unfitted-level-1) 1pt solid;\n",
       "}\n",
       "\n",
       "#sk-container-id-1 a.estimator_doc_link.fitted {\n",
       "  /* fitted */\n",
       "  border: var(--sklearn-color-fitted-level-1) 1pt solid;\n",
       "  color: var(--sklearn-color-fitted-level-1);\n",
       "}\n",
       "\n",
       "/* On hover */\n",
       "#sk-container-id-1 a.estimator_doc_link:hover {\n",
       "  /* unfitted */\n",
       "  background-color: var(--sklearn-color-unfitted-level-3);\n",
       "  color: var(--sklearn-color-background);\n",
       "  text-decoration: none;\n",
       "}\n",
       "\n",
       "#sk-container-id-1 a.estimator_doc_link.fitted:hover {\n",
       "  /* fitted */\n",
       "  background-color: var(--sklearn-color-fitted-level-3);\n",
       "}\n",
       "</style><div id=\"sk-container-id-1\" class=\"sk-top-container\"><div class=\"sk-text-repr-fallback\"><pre>KMeans(n_clusters=2, n_init=20, random_state=0)</pre><b>In a Jupyter environment, please rerun this cell to show the HTML representation or trust the notebook. <br />On GitHub, the HTML representation is unable to render, please try loading this page with nbviewer.org.</b></div><div class=\"sk-container\" hidden><div class=\"sk-item\"><div class=\"sk-estimator fitted sk-toggleable\"><input class=\"sk-toggleable__control sk-hidden--visually\" id=\"sk-estimator-id-1\" type=\"checkbox\" checked><label for=\"sk-estimator-id-1\" class=\"sk-toggleable__label fitted sk-toggleable__label-arrow fitted\">&nbsp;&nbsp;KMeans<a class=\"sk-estimator-doc-link fitted\" rel=\"noreferrer\" target=\"_blank\" href=\"https://scikit-learn.org/1.4/modules/generated/sklearn.cluster.KMeans.html\">?<span>Documentation for KMeans</span></a><span class=\"sk-estimator-doc-link fitted\">i<span>Fitted</span></span></label><div class=\"sk-toggleable__content fitted\"><pre>KMeans(n_clusters=2, n_init=20, random_state=0)</pre></div> </div></div></div></div>"
      ],
      "text/plain": [
       "KMeans(n_clusters=2, n_init=20, random_state=0)"
      ]
     },
     "execution_count": 41,
     "metadata": {},
     "output_type": "execute_result"
    }
   ],
   "source": [
    "k_means = KMeans(n_clusters=2, n_init=20, random_state=0)\n",
    "k_means.fit(x)"
   ]
  },
  {
   "cell_type": "code",
   "execution_count": 42,
   "metadata": {},
   "outputs": [
    {
     "data": {
      "text/plain": [
       "0    119\n",
       "1     39\n",
       "Name: count, dtype: int64"
      ]
     },
     "execution_count": 42,
     "metadata": {},
     "output_type": "execute_result"
    }
   ],
   "source": [
    "pd.Series(k_means.labels_).value_counts()"
   ]
  },
  {
   "cell_type": "code",
   "execution_count": 43,
   "metadata": {},
   "outputs": [
    {
     "data": {
      "text/plain": [
       "<matplotlib.collections.PathCollection at 0x19550248690>"
      ]
     },
     "execution_count": 43,
     "metadata": {},
     "output_type": "execute_result"
    },
    {
     "data": {
      "image/png": "iVBORw0KGgoAAAANSUhEUgAAAiIAAAGdCAYAAAAvwBgXAAAAOXRFWHRTb2Z0d2FyZQBNYXRwbG90bGliIHZlcnNpb24zLjguNCwgaHR0cHM6Ly9tYXRwbG90bGliLm9yZy8fJSN1AAAACXBIWXMAAA9hAAAPYQGoP6dpAABFq0lEQVR4nO3deXwU9f3H8dd3NsnmIAkBwiVBwQsR8eCqoCiWKhYttIpatSr6Q6soIlYFz1pF1FrrjXgUsYJXLWq9lQqIFyhqReVSUUS5Q+5skp3v748NgUCyOdzd2U3ez8djlczO7HwIyc57v/M9jLXWIiIiIuIBx+sCREREpPVSEBERERHPKIiIiIiIZxRERERExDMKIiIiIuIZBRERERHxjIKIiIiIeEZBRERERDyT5HUB4biuy48//khmZibGGK/LERERkUaw1lJUVETXrl1xnPBtHnEdRH788Ufy8vK8LkNERESaYe3atXTr1i3sPnEdRDIzM4HQXyQrK8vjakRERKQxCgsLycvLq7mOhxPXQWT77ZisrCwFERERkQTTmG4V6qwqIiIinlEQEREREc8oiIiIiIhnFERERETEMwoiIiIi4hkFEREREfGMgoiIiIh4RkFEREREPBPXE5qJiEj8sdZC5ScQXAMmE/xHYEya12VJglIQERGRRrMVH2MLrobgtzs2mgzIuBAyxmmBUmkyBREREWkUW7kMu/VsoGqXJ0qwxXeALcdkTvCkNklc6iMiIiKNYov+RiiEuHXvUPIgNrglliVJC6AgIiIiDbLBzVDxLvWGEACCUP5yrEqSFkJBREREGuY2pqXDh3U3R70UaVkUREREpGG+XKChjqhBjK9TLKqRFkRBREREGmScdpAyFPCF2SsJUn8dq5KkhVAQERGRRjGZlwMp1HfpMG0uxTg5Ma1JEp+CiIiINIpJ7oVpPxuSDtjlibaYrBsgY5w3hUlC0zwiIiLSaCa5D6bDXGzlcgh+F5pZNaU/xqR4XZokKAURERFpMpPcC5J7eV2GtAC6NSMiIiKeURARERERzyiIiIiIiGcURERERMQzCiIiIiLiGQURERER8Uyzg8jChQs58cQT6dq1K8YYnn/++VrPW2u5/vrr6dKlC2lpaQwfPpxVq1b93HpFRESkBWl2ECkpKeHggw/m/vvvr/P522+/nXvuuYcHH3yQDz/8kIyMDI477jjKy8ubXayIiIi0LM2e0Oz444/n+OOPr/M5ay133XUX1157LaNGjQLg8ccfp1OnTjz//POcdtppzT2tiIiItCBR6SPy7bffsn79eoYPH16zLTs7m0GDBvH+++/Xe1wgEKCwsLDWQ0RERFquqASR9evXA9CpU6da2zt16lTzXF2mTZtGdnZ2zSMvLy8a5YmIiEiciKtRM1OmTKGgoKDmsXbtWq9LEhERkSiKShDp3LkzABs2bKi1fcOGDTXP1cXv95OVlVXrISIiIi1XVIJIjx496Ny5M/PmzavZVlhYyIcffsjhhx8ejVOKiIhIAmr2qJni4mJWr15d8/W3337Lp59+Srt27ejevTsTJ07k5ptvZt9996VHjx5cd911dO3aldGjR0eibhEREWkBmh1EPvroI4YNG1bz9aRJkwA4++yzeeyxx7jyyispKSnh/PPPZ9u2bRxxxBG89tprpKam/vyqRUREpEUw1lrrdRH1KSwsJDs7m4KCAvUXERERSRBNuX7H1agZERERaV0URERERMQzCiIiIiLiGQURERER8YyCiIiIiHhGQUREREQ8oyAiIiIinlEQEREREc8oiIiIiIhnFERERETEMwoiIiIi4hkFEREREfGMgoiIiIh4RkFEREREPKMgIiIiIp5REBERERHPKIiIiIiIZxRERERExDMKIiIiIuIZBRERERHxjIKIiIiIeEZBRERERDyjICIiIiKeURARERERzyiIiIiIiGcURERERMQzCiIiIiLiGQURERER8YyCiIiIiHhGQUREREQ8oyAiIiIinlEQEREREc8oiIiIiIhnFERERETEMwoiIiIi4hkFEREREfGMgoiIiIh4RkFEREREPBO1IBIMBrnuuuvo0aMHaWlp7L333tx0001Ya6N1ShEREUkwSdF64dtuu43p06cza9YsDjzwQD766CPGjh1LdnY2EyZMiNZpRUREJIFELYi89957jBo1ipEjRwKw11578eSTT7J48eJonVJEREQSTNRuzQwePJh58+axcuVKAD777DMWLVrE8ccfX+8xgUCAwsLCWg8RERFpuaLWIjJ58mQKCwvp1asXPp+PYDDI1KlTOeOMM+o9Ztq0adx4443RKklERETiTNRaRJ555hlmz57NnDlzWLp0KbNmzeKOO+5g1qxZ9R4zZcoUCgoKah5r166NVnkiIiISB4yN0jCWvLw8Jk+ezPjx42u23XzzzTzxxBMsX768Ua9RWFhIdnY2BQUFZGVlRaNMERERibCmXL+j1iJSWlqK49R+eZ/Ph+u60TqliIiIJJio9RE58cQTmTp1Kt27d+fAAw/kk08+4c477+Tcc8+N1ilFREQkwUTt1kxRURHXXXcdc+fOZePGjXTt2pXf//73XH/99aSkpDTqNXRrRkREJPE05fodtSASCQoiIiIiiScu+oiIiIiINERBRERERDyjICIiIiKeURARERERzyiIiIiIiGcURERERMQzCiIiIiLiGQURERER8YyCiIiIiHhGQUREREQ8oyAiIiIinlEQEREREc8oiIiIiIhnFERERETEMwoiIiIi4hkFEREREfGMgoiIiIh4RkFEREREPKMgIiIiIp5REBERERHPKIiIiIiIZxRERERExDMKIiIiIuIZBRERERHxjIKIiIiIeEZBRERERDyjICIiIiKeURARERERzyiIiIiIiGcURERERMQzCiIiIiLiGQURERER8YyCiIiIiHhGQUREREQ8oyAiIiIinlEQEREREc8oiIiIiIhnohpE1q1bx5lnnkn79u1JS0vjoIMO4qOPPormKUVERCSBJEXrhfPz8xkyZAjDhg3j1VdfJTc3l1WrVpGTkxOtU4qIiEiCiVoQue2228jLy2PmzJk123r06BGt04mIiEgCitqtmRdffJH+/fszZswYOnbsyKGHHsrDDz8c9phAIEBhYWGth4iIiLRcUQsi33zzDdOnT2fffffl9ddf58ILL2TChAnMmjWr3mOmTZtGdnZ2zSMvLy9a5YmIiEgcMNZaG40XTklJoX///rz33ns12yZMmMCSJUt4//336zwmEAgQCARqvi4sLCQvL4+CggKysrKiUaaIiIhEWGFhIdnZ2Y26fketRaRLly707t271rYDDjiA77//vt5j/H4/WVlZtR4iIiLSckUtiAwZMoQVK1bU2rZy5Ur23HPPaJ1SREREEkzUgshll13GBx98wC233MLq1auZM2cODz30EOPHj4/WKUVERCTBRC2IDBgwgLlz5/Lkk0/Sp08fbrrpJu666y7OOOOMaJ1SREREEkzUOqtGQlM6u4iIiEh8iIvOqiIiIiINURARERERzyiIiIiIiGcURERERMQzCiIiIiLiGQURERER8YyCiIiIiHhGQUREREQ8oyAiIiIinlEQEREREc8oiIiIiIhnFERERETEMwoiIiIi4hkFEREREfGMgoiIiIh4RkFEREREPKMgIiIiIp5REBERERHPKIiIiIiIZxRERERExDMKIiIiIuIZBRERERHxjIKIiIiIeEZBRERERDyjICIiIiKeURARERERzyiIiIiIiGcURERERMQzCiIiIiLiGQURERER8YyCiIiIiHhGQUREREQ8oyAiIiIinlEQEREREc8oiIiIiIhnFERERETEMwoiIiIi4hkFEREREfFMzILIrbfeijGGiRMnxuqUIiIiEudiEkSWLFnCjBkz6Nu3byxOJyIiIgki6kGkuLiYM844g4cffpicnJxon05EREQSSNSDyPjx4xk5ciTDhw9vcN9AIEBhYWGth4iIiLRcSdF88aeeeoqlS5eyZMmSRu0/bdo0brzxxmiWJCIiInEkai0ia9eu5dJLL2X27NmkpqY26pgpU6ZQUFBQ81i7dm20yhMREZE4YKy1Nhov/Pzzz/Pb3/4Wn89Xsy0YDGKMwXEcAoFArefqUlhYSHZ2NgUFBWRlZUWjTBEREYmwply/o3Zr5pe//CWff/55rW1jx46lV69eXHXVVQ2GEBEREWn5ohZEMjMz6dOnT61tGRkZtG/ffrftIiIi0jppZlURERHxTFRHzexq/vz5sTydiIiIxDm1iIiIiIhnFERERETEMwoiIiIi4hkFEREREfFMTDurioiIiPesDULFBxD8CZz24B+CMSme1KIgIiIi0orY8jewhX8Bd+OOjSYbMq/ApJ8S83oUREREpEHWWrDFYJIwJs3rcqSZbPnb2G2X1PFEAbbwWoCYhxH1ERERkXpZW4kt+Qd20zDsxn7YDQfjbjkdG1jgdWnSRNZabNEt27+qe5+i27G2InZFoSAiIiL1sLYKmz8eW3QbuD/ueKJyKTZ/HLbkCe+Kk6ar+hyC31FfCAHAFkJgYcxKAgURERGpT9mzUDGf3S9cLgC26CZs1Q+xrkqaK7ilcfu5m6Nbxy4UREREpE625J+ACbOHgy17JlblyM/l69TI/TpHt45dKIiIiMhurLUQ/JqwzfgEoWplrEqSnyvpAEjal7Dh0mkHKUNiVhIoiIiISB2MMUBD80o4YFJjUY5EgDEGk3ktoUt/3WHEZF6LMckxrUtBRERE6pb6K8AXZgcX4x8eq2okAoz/cEzOP8DXs/YTTldM23sxaSfEvCbNIyIiInUyGf+HLX+N0KfnXW/R+MC3B6Qe60Fl8nMY/+HQ4RWo+mLHzKrJh2CMN20TahEREZE6meTemLb3AX5CYcRHTQuJLw+T85hn04LLz2OMwST3waT+CpNymGchBNQiIiIiYZjUY6Dju1D2PLbqCyAF4z8a/EdhTLjbNiKNoyAiIiJhGScTMv4QdiCvSHPp1oyIiIh4RkFEREREPKMgIiIiIp5REBERERHPqLOqiIjUywbXY0ufgsA7QBBSBmLSf49J6uF1adJCKIiIiEidbGAhNn88UMn2FXepWoEtfRyyb8WkjfawOmkpdGtGRER2Y4Prq0NIBTUhBIAg4GILJmMrv/SmOGlRFERERGQ3tvQpQi0h9a2+a7Alj8ewImmpFERERGR3FYuo3RKyqyBUvBOraqQFUxAREZHd2XAhZLvG7CMSnoKIiIjsLmUANQvc1ckHyQNiVY20YAoiIuI5ayuw5a9ji6djSx7HBn/yuqRWz6SfTv39QwCCmIyzYlWOtGAavisinrKB+dhtV4HNJ/SWFISiqdi0kzBZf9Yy8x4xSXtC9m3YgqsAQ2i0DIRaSYKYzKswKf29K1BaDAUREfGMrfgYm38hO/oaVO14suw5rK3CtL3di9IEMGmjIGm/0OiYiuoJzZIHYjLOwqT087o8aSEURETEM7b4XkLN/3XdArBQ/jy26kLN4ukhk3wApu00r8uQFkx9RETEE9bNh4r3CD/ywgflr8SqJBHxgIKIiHjDLWrETgbrFkS9FBHxjoKIiHjD6QA01BE1iPHlxaIaEfGIgoiIeMI46ZD6G8LPVZEEaSfGqiQR8YCCiIh4xmROAKcdu4cRE/pv1jUYp22syxKRGIpqEJk2bRoDBgwgMzOTjh07Mnr0aFasWBHNU4pIAjG+zpj2z4H/OGqFEd9emOy7qifVEpGWLKrDdxcsWMD48eMZMGAAVVVVXH311Rx77LF8+eWXZGRkRPPUIpIgjK8zJucurLsVgj+AyQBfT4wxXpcmIjFgrLXh5vCNqE2bNtGxY0cWLFjA0KFDG9y/sLCQ7OxsCgoKyMrKikGFIiIi8nM15fod0wnNCgpCw/DatWtX5/OBQIBAIFDzdWFhYUzqEhEREW/ErLOq67pMnDiRIUOG0KdPnzr3mTZtGtnZ2TWPvDwN2xMREWnJYnZr5sILL+TVV19l0aJFdOvWrc596moRycvL060ZERGRBBJ3t2YuvvhiXnrpJRYuXFhvCAHw+/34/f5YlCQiIiJxIKpBxFrLJZdcwty5c5k/fz49emjhKhEREdkhqkFk/PjxzJkzhxdeeIHMzEzWr18PQHZ2NmlpadE8tYiIiCSAqPYRqW8egJkzZ3LOOec0eLyG74qIiCSeuOkjEsMpSkREWjRrqyDwJrb0X+CuB6czJu0kSP0VxiR7XZ5Is8V0HhEREWk665Zg88+DyqWEZl1wga+xFe9A6WGQ8yjG0WzVkpi06J2ISJyzhX+Byk+rv3Jr/7/y09DzIglKQUREJI7Z4GYof5EdAWRXLpS/GNrPY9ZarFuAdbfp1rw0moKIiEg8q/wYCDawU7B6P29Ya7Flc7FbTsRuHIDdOBC7+Vhs6ZNYW1+AEglRHxERkbjW2Au5dxd8W3QblP4D2GmkZPB7bOENUPEZZE/TaspSL7WIiIjEs+RDqHWBr5Op3i/2bMXH1SEEYOfbMdV/Lv83BN6OdVmSQBRERETimPF1Af9wwFfPHj7wDw/t5wFb+iT11wbgw5bOjlU5koAURERE4pzJvhmSehJqGdneOlL956Qeoee9UvUV4fuwBKFqRayqkQSkPiIiktCsuxWqvgGTAkm9Mablva0ZJwfaPQtl/8aWPQvuRnA6YtLGQNrvME66h8U14txGS3pI/Vreb6yItArW3YotvAXKX6bmE7nTATIugPSzWlznSOOkQ8aZmIwzvS6lFpM6Alv5P2r3D9mZA6nHx7IkSTAKIiLiKetuDX3SDywBYzApg6o/5WeHOWYbdsspEFxHrdsC7mZs0VQIrsdkXRX94lsRW/kltnQOVCwFkwT+ozHpv4e0k6HkYXAL2P0WjQMmHZN+uhclS4KI6qJ3P5cWvRNp2WxgETb/IiBA6BN1dSuGScfkPIRJGVDncW7R36FkBuGGrJoOr2KS9o50ya2SLZkVCnj42BE2HCAZkzMDnA7Y/P8LrYFT8/m2Cpx2mLYzMCkHe1G2eKgp128FERHxhK36Hrv510AluzfrO4Afk/s6xte59nHWYjf+Amx+mFf3QcZYnMwrI1t0K2QrFmO31nc7yACpmI5vg8mEwFvYwAeAxaT0g9TjMSYlhtVKvIib1XdFROoTGtIZpO6+BS4QwJY+jcm8dJfnKhoIIdXHB9dFosyY2f6ZMN76ttiSmdRuCan1LFAOpf/CtDk/FDzUH0SaSMN3RcQbgf8SftinC4F5dWxPAfwNvLgDpm1zK4spW/4W7pYzsBsOwG44AHfLmdjyOJoArOJ9wv87WWzF+7GqJixrK7Flz+NuOQ134xDczSOxJY9i3UKvS5MwFERExBu2oln7GGMgbRThJ9EKYtJObHZpseIW3YXddlH1OjFu6FH5EXbbBdji+7wur1pj7t57f4ff2nJs/rnYgitDKxW7m6BqFbboduzmE7EJ1kLWmiiIiIg3kg+moRk5ST60zmdMxjgwfup+C3Mg5QhI7heBIqPHViyBkgeqv9q5023oz7b4HmzFp7Eua3fJAwj/7+RgUgbGqpp62aI7oWJJ9Vc7fz8tuBux+RO8KEsaQUFERDxhMv5AQzNymowz6j42aU9MuyfAl1e9xaFmptHU4zFt74u7vha7siVPkAhTo5uMsdT/72SAZEgbE8OKdmfdEih9mvpHUQWh6nNs5eexLEsaSZ1VRcQTJmUANmM8lNxP7c6QoT+bNldgkvvUf3xyH+jwBlR8EJpm3Pgh5ShMUrcYVB8Blf+jwanRKz+LVTX1Mv4h0OYybPHf2f3fycG0vQfjy/WuQICqlUBZAzs5UPERJB8Ui4qkCRRERMQzTual2OS+2NKZoYsEBlIGYTLOxfiPaPB4Ywz4Dw89IshWfoEt+w/YbRjfHqEJ1nx7RPQcNGZYq2moU25smDYXQsogbOk/qyc0Swb/MZj00zFJe3ldHg2vTtzU/SSWFETiwA8rf+T9/3xMRVkFPfp2Z9CvD8OXFK7JVqTlMKnDMKnDvC4DAGsD2G1/gsDrbL9tYgGK78NmXIRpMyFyt3xSh0PJo9R/O8GpXnU3PpiUwzAph3ldRt2Se4HJAFsSZicXUgbFrCRpPAURD5UVl3Hb2ffx7tzFGMfgOIZglUv7rjlc8+RlHHTkAV6XKHWoCFSy/tuNJCX76NyjI46jrlYthS24AQJvVn+1y22TkvvBlwsRmq7cpJ+BLfknUMHuYcQB48eknxqRc7V0xqRi0/9QPdtuXSN4Qh2fTbLeU+ORZlb1iLWWKcdP5ZN5n+MGa78JGcfgS/Ix7LQhVJRX0DY3m+F/GMr+A/aJ+w54LVmgLMATNz3Hf6a/TklBKQBdenbi1CtH8etxw/VvE2HWWnC3AJXg5EZ9VV0bXI/ddBRhh6I6HTG5CzAmMi2WNvAhdtsFYHfp32AyMDkz6p3iXnZnbQV224Tq+Wm292UxgAVfD0y7J7zvy9KKaIr3BLDs3eVcduR1YfcxJvSf7S0lQ0/+BZOfmEBySnJsipQaFYFKJh97E1+8uxzX3elXpvp97pQrRjHutvhaFTWR2bJXsCXToWpFaIPTDpN+BmScj4lSvwlb+iS28M80NCeGaf/vsJ1om3xetxDKnsdWLAZMaChs2miMkxmxc7QW1roQmI8tewaqvgv93KSNgrQTMSbN6/JaFU3xHkM/fbOBVx5+i28+/57UDD9DRg3giJN+QYo/fFiY/9S7+JJ8BKvq7zVvbeg/weoL38J/fcDqT9cw5YkJ9Bq4byT/GtKAVx+Zx7JFX7FbbK/++pm/vsCWn7aSt/8eHH3qYPbYp0vMa2wpbPEMbPHfqNWx0N2KLb4fAouh3aPRWb/EllGTLBvcL3KMkwUZZ2Eyzoro67ZGxjiQegwm9RivS5EmUIvIzzD3nleYftljGMfgBl0cx+C6li49O3H7W9fTea+O9R477cy7mf/0e7vdlmkMYwxXzBzPvv168tzfX+Ld5xdTUV5Bz757MfriERx92hD1W4iw8/pcxtqvftg9iOzEOAZjQj8Lx40dxsQHzycpWVm/KWzVt9jNx4XZw2Ayr4nKRdsG3sXmj21gLweTuwjj6xDx84u0JGoRaYbKikrenbuY/y34EoC+R/VmyG8H1nsb5MOXP+aBiTMBsMHQ1Wl7k/2G7zcxZcTNPPLF3/H56r6X3KVnp2bXaq3lr+fej+OEPjEGq0JhZsXiVUw7cyUfvrKUqx6/RGEkgn5cvT5sCAGwrsVWf5p+47H5JPuTuPSB82NQXcthS5+h/gXWtu8zOzqtBymHg28PCP5E3SNZfOD/lUKISIQpiACrP/mWa06Yxtaf8muGzf7nwTdo1yWHqS9PYZ9Deux2zFO3PY9xDNbd/erkVrn8sPInLup3FWdeP4YhowdQGahkwTPvs/DZ9yktKiM3r32zWkO2s+6OWzY1563++r9zFnHwUQfy63HxM/Qv0aVnplK4pbjR+1trefmhtzjj2pPp0LVdFCtrYaq+pqEF1giuwVob8c7BxjiQfSd269lA5S51+EIdVbOuieg5RaQV35op3FrE6zPns+CZ91i19Js6Q4Hjc0hrk8of/3Y2qz75lnWrfqKkoITcPdrzzr8/bPS5eh68J1vWbaVgc1FNeKkvxESCMYbuB+zBI8v+HpXXb43un/APXnzwddyqxodHYwzj7zmXUeNHRLGylsXddhmUv0r9c2sAJg2nU/RmHLWVq7AlD1bXURWanyJtDCbjAoyvfdTOK9KS6NZMA1Z/+i1XDv8LxdtKwoYBN+hSUlDK3/5veq3ty1ndpPN989l3NX/efr5ohRAIfRr/7ssfqCivICU1Cp36WqHfTRzJ64+9TaCsotEtWY7PUFYU2Y6NLZ1JPQ5b/nKYPXzg/3V0a0jeF9P2b1g7LTRBlsmM+tDhn8MGN4ObD74OGCfH63JEmqzVdSIIlAWYMmIqJQWlUQ0D8cDxtbp/3qjZ3gE5p1M2AE5Sw9/bYJVLt/27Rru0lsX/S/DtTd2LwTmAD9PmvJiUYkwKxsmJ2xBiKz7D3XoOdtNg7JaR2I2H4+ZfjK36xuvSRJokPn/DomjBM++zbWOB12VE3QG/2K9mxMZP327g9Zlvs+G7TWS1y+SY049g/wH7eFxh4uk1cF9mr5nOBy99zIolq3n3+cX8sPKnOltIjDFkdcjkFyfE91L08caYZGj3GDb/Aqj6kh1vUVVg2mDa3otJ0s+uDXxYPcJn5589FwLzsBXvQbunMcka4i+JodUFkU/++zmOz/lZHUUTQbvObbHWMuv6p5l9y3M1I2iMgX/f/TKDRw/gmjkTdeumiXxJPoaMHsiQ0QMZef6vuHjQFAq3FtXqO+L4HIyBKx+7WMN3m8H4OkH7uVCxGBuYD1Rikg+E1OMxJtXr8jxnrYstuIpQCNn1fSwItgxb+GdM+9mxL06kGVpd231LDyDbffXBSl584HVmT30ObOjv7QbdmqG+H7z4EXdf+LDHVSa2Tnvmcv+SWxl+xlCSUnYEjoOPPpC/zf8LA48/1MPqEpsxBuMfhJN1FU7WtZi03yqEbFfxIbg/Un+H3iBULsFWrYlhUSLN1+o+rvU+fH/+++Qir8uIurKSAHNu+Xe9z7uu5Y1Z8+m2X1f27N2NAccfoqnjm6FjXgeumDmei+89ly0/bSMzJ4PsDvE3+Z60IME1jdzvO0jaK5qViEREq2sRGf6HoaS1ScM4LXeBMuMYOnZvz9af8hvc9x/XzOGG397OqV3P541Z86NfXAuV1iaNbvt2UQiR6DONXIPGtIluHSIR0uqCSEZWOjfOvYLklJbbGGRdy159ujfpmKKtxfx17P289cTCKFUlIhHhPwpooG+X0xGSD4lFNSI/W9SDyP33389ee+1FamoqgwYNYvHixdE+ZYMOPeYgHv78TlIzorOKp6cMDPz1oSx+ZWmzDn/oyn+GXYhPRLxlnEzIGBd+nzaXYkzdy0uIxJuoBpGnn36aSZMmccMNN7B06VIOPvhgjjvuODZu3BjN0zZK1707M/zMoTi+lnWLpn3Xdhzx20GUFZU36/j89dv4rHq9HYmOksJSXn10Ho//+RleuP818lvBcHKJLNPmEsj4P0Jv4Q6h7n4GSMZkTsGkj/G0PpGmiOoU74MGDWLAgAHcd999ALiuS15eHpdccgmTJ09u8Phor7773ZdrueCQK1pUC0B2h0yGnzmUF+5/jarK5v29psy+lGN+f0SEKxOA/0x/nRl/epxAeQW+JF/Nqs2nXDGKc246TQsVSpPY4AYofwXrbsH4ukDqSIzT1uuyRJp0/Y7au15FRQUff/wxw4fvWHjNcRyGDx/O+++/X+cxgUCAwsLCWo9oKNxaxNefrSGtTSrXPTOJpJQkIrx+lmfS2qTx7bLvCf6MYcod87SeRjS89cRC7hn/CIGyitDabZXB0OKFVS5PTpvL7Jue87pESTDG1wmTMRYn80+Y9DMUQiQhRa3H5ubNmwkGg3TqVHu5+06dOrF8+fI6j5k2bRo33nhjtEpi/ZqNPDJlNoue+6BmPo1eA/fhisfGs27lTyxb9BWO4+DP8PPuXO/7sjTH+jUb2fDdJprT0GWMoXOPjvQevH8UKmvdXNflH9fMCbvPU7fN5XcTf01GdkaMqhIR8V5ctQNPmTKFgoKCmsfatWsj9to/fbuBiwdOrhVCAFZ89DW3nnEPe/buxm1vXM+0165lyhMTaN8lcRePalQI2aUFyBgDBi657zzdHoiClR99zaa1W8LuU1FeyYcvN6+TsYhIooraFadDhw74fD42bNhQa/uGDRvo3Llzncf4/X6ysrJqPSLl4SufoGhbSa0QAqGhrhbLnec/SEV5BQDLP1zNlkbMwZFQTPXU445h5PnD6d5rj1pPdz9gD2555RoGjNBsoNFQlF/S4D7GQPG20hhUIyISP6J2ayYlJYV+/foxb948Ro8eDYSap+fNm8fFF18crdPWqWBzIe8+v7j+6d0tlGwr5d3nlzDstCE8c8cLMa0vFtrmZnHCBcdy/HnH0LF7LtZavv50DVt+yqd9lxz2PmSvUKuIREXXvTs1uI+10KUR+4mItCRRndVr0qRJnH322fTv35+BAwdy1113UVJSwtixY6N52t2sX7OpwTVmfEk+1q36CYClb30ei7JiKjs3m7NvPLXma2MM+xzag30O7eFhVa3HHvt04aAjD+CL91bUu1pv+645HDb8IA+qExHxTlSDyKmnnsqmTZu4/vrrWb9+PYcccgivvfbabh1Yo61N2/QG93Fdl4zs0H7WbVkL4zk+p1GfyCW6LrnvPC4dci2BsopaYcRxDMYxTHrkQny+5k1CZa2Fyo+x5W+BLcck7wepv8E48TvNt3WLoWwutvxVsCWQtB8m/feYlMO8Lk1EYiiq84j8XJGaR8RaywWH/Ik1y9bW25HTOIY5302nwx7tueyo61j2Tt0jexLVTS9O5hcn9PO6jFZvzRdreXjyE6GZb6t/FPsc0Ytzp57OQUce0KzXtG4+Nv9CqFzKjs8WQSAV0/Z2TOpxkSg9omzVt9itfwB30/YtgA8IQvpYTOZk3SoUSWBNuX633AVXdmKMYezNv+f6UbfV+/wJfzyWDnuE5s84+bITf1YQMcY0a/hsNBjHMGjkYeR0zuae8Y/w0zfrye6QxbDfH0H/4w5u9idwaZ69Dsxj6n+mkL9hG5vXbSU7N4uOeR2a/XrWWmz++VC5rHpL1U7PlmO3XQrtZmNS4ieEWhvE5o8Ddws1aQwIhSegdCYk7QfpJ3lRnojEWKtoEdnuzccXcM/4hykvDdTMaomFkRcMZ/zd55KUHMpl1lqmX/YYc+95pUmv33XvTgz57SC+eG8FX72/0vMwkprhZ9T4EZQUlPLSjDfxJTkEq1wcn4MbdOk9eH9ueXmK5q1IYDbwPjb/7DB7+CDlSJx2D8WspobY8v9it/0xzB4GfD0wHV5tla0itnI5BNeEVtlNGYAxDSxwJxKH1CJSj1+ddRRH/G4gC//1AT99vYE2ORkMHXP4bp9IjTF0P6Bbg6+X0TadQ4f1YZ9+PTnoiAM46MgDqAxUcuoe54fm6fAwhxgHuvfag6wOmTx9e2gU0Pahy9v7Jyz/cBW3/uFebnqx4en2JT7ZwBuEfo2r6tkjCBULsDaAMfGxyKOteJ/wNVsIfgPuVvC1nll+beUX2ILroGrZjo0mG9pcAul/aJWhTFqHVhVEIDQF+nHnDGtwv2XvflXTclCfkm2lTJl9KSmpOz6xLPzXBxQ3Ys6IpmjXuS1b129r0jHWhZUff8OPX2+odx836PLBSx+zdsU68vbfo979JI7ZMhpOvBZsOcRJEKm5BdMgbzuNhzrTPostfSbUl8XJDS0ml3ZKxDsB28qV2C2nA4FdnijAFt2MsSXQ5sKInlMkXmgKzXo0enbRXT6lfP3pGpKSI9fvIiMrjZv+M6VZxxrHULwtfCgyjmHJa5826/XFe8a3Nw0GEad9qJk/Tpjkw6i/NaSa0zVUt0esuxW75WRs0a2h1hlbCMFvsEW3Ybf8DhsMP0tuk89XfCdQQX3hyxbfi3W3RvScIvFCQaQehwzrE7Y1xHEMB/xiX1L8ybW2+9NSItY3JCU1mUe++Dv79etJz757RuQ1d2WMoaqigYuCxK+03xH+19jBpJ+OMXH0q556LDgdCFe3yTjH05ptwbUQ/I5QyNv++1z95+BabOE1kTuXuxUCbxO+pSgIZS9H7JxNYYObsOVvYsvfingAEwEFkXoddcrhtM3NwvHV/S1yXcuYy3+z2/bDf9N/t2nkm8o4Bl+Sjz/PvbJmJM/1/7oc4zTtHrF1Lb4GWmfcoMt+/fdudq3iLeNrj8navlDkrj+rDiT1hvTzYl1WWMakYHIeBJNOaMjudtX1p46E9D94URoANvgjBOZRfzAIQuBtbNUPkTlhcNfRQ3XxYd36b7OGY205tuw/2OL7sSX/xAY3Nu44txB32yTspiOx28Zjt12E3XQE7rarQretRCJEQaQe/jQ/t7x6DelZabUCgC8p9MZ55nUnc+RJv9jtuP0H7MPBR/euN8A0xqHH9OHOBTcy4LhDAPh22fd8/s5yTpv82ybd9um6dyeOPeuoemtxfA7d9uvCwUcf2OxaxXsmfQwm5xFI3mmdIJMNGedj2j2BcRqe0C/WTHJfTIdXIOM8cPYAkwPJAzBt78Zk/w1jPBxWXvkZjep3U/lZZM7na89uq1DuxsU4uU1+aVv2EnbjYGzB5aEgUnQzdtNQ3MKbsbb+FhhrA9itZ0H5q9S+XRSE8hew+edibUWT6xGpS6vrrNoU+x7Wk8dW3MOrj/6XRf/+kEBZgH379eQ3Fx5Hr4H71nvc9f/6E9eOnMZXH66qGTIbjuNzOPWq0Rx71lG0ycmgbW42AOvXbOS2s+5l2aKd5jQxoRYT64Z/o0xtk8qf515Jbrf2LF+8mjVfrK11jJPkkN4mjeueuVy98VsA4x+K8Q/FugVgA+C0w5j4/vU2vs6YzD9B5p+8LmUXje0fFpmwZJx22JQjoeJd6m+FMaGWoiawgfnYgst32rL9FqyF0n9iAZN1bd0Hl70IVV/W88ouVH4K5W9A2glNqkmkLq1qHpFYcl2XT/+7jIXPvs/i1z5h8w9b6+87YuDxVffRpeeOadi3bSrgj4deQf7GAtxdgowxBl+SQ1Vl3W9afYf25uonJ9K+Sw4AZcVlvHD/67w84002fr+JjLYZHHvWUfxu4kg6dm/6pyyRlsy6W7EbjyB8h1ofJncRJkLDi23ll9gtpwKV1NlhNWM8TualjX89a7FbRkHVCupv3XEwuQsxvo67PeNuOaWBliEHUgbitHu80TVJ66J5ROKA4zgcNrwvhw3vy3dfruXiQVOoKK/cvQOsgVEXjagVQgCev+dV8jcU1Nlh1lpLVWWQkyaO5KsPV/HTNxtISU3h4KMPZNTFI9ivX+0+H2lt0jjtqtGcdtXoSP81RVoc47TDpv0Wyp6j7lEsDqSOilgIATDJvaHd49iCqyH49U5PZGAyLoSMcU17weD3UNXQ7NAWyl+HjDr64wR/IvztKbd6H5GfT0EkBvbsncedC/7C7efcx5pla2u2p6Qmc/KkEznrxlN2O+a1mW+HH7Xjc9i6fht3vzs1KjVL4rJVX0PV9+BkQvIhcX+LJh6ZrGuxwbVQ8QE1a+DgAC6k9MdkXR/5c6YcCh1eCbVEBNeAaQP+IRiT1vQXswWN2MkHtqjup5yO4G4kbIuI07npdYnUQe9QMbLvYT156LO/sWLJar778gfS2qTS79iDyciquyNh4ZbCsK/nBt0mT3ImLZut/ApbeEPo/v12Ti60mRiaiEsazZg0bNtHoPivUDa3+oIdmi6fzKuj1gHYGAMphwCH/LwXcvagJjjVqwp8eXXXkT4GW/h5mGNdjNYCkghREIkhYwy9Bu4btqPrdu0657Dhu031Pu9Lcui4Z/MXS5OWxVauwm49LdRRdWfuptCcF7YEk3GOJ7UlImuroGAiBN4idEG3QCVULIIto7HtHsWk9Pe2yDCMrz3Wf0yY+UlMqMUl9Vd1v0DaKCh9Aqq+ruN4HyT1gtRfR7ZoabU0fDdO/Xrc8LDzhgSr3EZNVS+tgy36K9gwM3MW3YF1w7eyyU5KZ1XPJQK7DV8lgM2/CGvLPSis8UzmVaGwwa6je0LvKybrRoxJrftYk4Zp90/wD6vZP8QB/7GYdrO0GJ9EjIJInBo1/ji67t25zjlAjDEcedIv6Du0tweVSbyxwS1QsYDwM3NWQHnTVpNurax1sSWPU3//CBfstuo5NuKXSdoT0/5f1WFip/eRpF6YnBmYBobeGicHJ+cBTO5/Q3O7ZN+JyZ2Pk3M3xkmsUYwS33RrJk5lZGdw16KbuOeih1k0d3HNHCD+dD+jLjqOsVN/r/k/JCRsp8IdbNnLmPTTol9PonO3gtvQiJAkbOVnmLTfxqSk5jJJe2JyHgiFVfdHMFmYpKYtF2F8e0Ba4i6KaavWhkYROdmQ1Du+ljsQQEEkrrXNzeb6Z//E5nVb+PrTNfiSk+h9+H6kZzajF720XE67xu1X+SG2chkmuU9060l0jb5QJc7bp/G1r57BtfWwlauwRTdVj3yq5tsD2lzeYGuQxFbi/Ca1Yh32aF+z5ozIroyvEzZ5EFR+2MCePmzJHEzbW2JSV8IyOZC0P1StpP6WpipMypBYViVNYKtWY7eeArv24wmuwxZMAlus1sE4ojYqkRbAZF7e8E4Eoep/Ua8l0RljMBnnU38I8YFvL/APjWFV0hS26I7qEFJ3vylbOE0L98URBRGRFsCkHAJOY4Zz+6NdStRYtxhb/iq29BlsxeL6l0yIAJN2ImSMr/5q+6iT6j5ZTidMziPeLswn9bLBLWGGLW9XFppVVuKCbs2ItBSpJ0DpP6n/DdjBpA6PZUURYa0LJdOxxTOAnZrafd0hexomZUBUzutkXopN/RW29OnQmi0mA5M6AlJHNnlCM1u5CireB4KQfBgk91Vn82hx19Nw5+0kbHBdg2seS2woiEjCsNby+TtfsWLJ1/iSHPofdwjdeyVub/5IM+lnYkufJDTvxa5vxA6YDEjbfTmBeGeL/w4lM3Z/IvgDdus50P5JTHLfqJzbJPfGZN/Y7OOtuxW7bRJUvEeoRcUALiQdCG3vxiR1j1Spsp2T04idgphG7SexoNV3JSF89+Va/jLmb3z/1TocnxNaXdS1DDj+UKY8MYHMnDZelxgXbOA97LaLwJZVb6m+8Jns0O2ElIOb9nrWBYxnn95tcCN201Dqn6rcgZTDcdrNjGVZjWJtBXbLSVC1mjpnJ3XaYzq8iGnsqCdpNHfLqdWrB9f3c+PD5L6D8Wl26mhpyvVbfUQk7m1et4XLhl7PDytDczu4QbdmXpWP3/iMKSOmEqwKdz+49TD+waGl3TOvgdQRkHocJusvmNz5jQ4h1gawJf/A3fRL7IZe2A19cbddga1cGeXq69DgJGwuVLyLDW6OSTlNUv5q6JZOnbfKguBuhtKnY11Vq7Cj83Y9ATrjXIWQOKIgInFv7j2vUlJQWudqxG7QZcWS1Xz48lIPKotPxsnCZJyF0/ZunLZ3Y9JPwzgZjTrW2nLs1nOwRbdB8IfqrQEofwm75XfYwHvRK7yuetwtNOptyt0a9Vqaypa9SPjaXWzZv2NVTqtiUgZicmaAs33ag+3/DimQcRGmTWNGmUmsqI+IxL03H19QZwjZzvE5zJu9kMGjotNpsTWxxTOg8hN272MSBFzstgnQcVG9a5REmvF1xoYd/QBgIB4/3bpbCL/6LeBui0UlrZLxHwW5C0MLFVZ9D04W+IdhnGyvS5NdqEVE4l5xQUnY592gy7ZNWtDt57K2MrTiar0XTwu2EMpfi11Rqb8m/OclH/h/GZ/9LHzd2X3BuZ0Z8HWLVTWtkjFJGP/RmIyzMGmjFULilIKIxL1O3XPrvdUL4Ety2GOfLrErqKVyN4ItaGCnJGzllzEpB0ILr5nMSfU864Dxh3neWyb9FMLPZWEx6afGqhyRuKUgInHvhAt+hQmTRIJVLiPOOyaGFbVUyY3bzTRyvwgxGedhsv6y0/3+askHY9o9hUnaJ6b1NFrKEPCPoO4U7UDyIZD2u5ot1i3CljyOmz8eN/8ibMmjWDf/Z5dhg5twi/6Ou/FI3PV9cTeNwJY8hq0ZWSXiLQ3flbhXXhrgsiOv45v/fVdnX5ER5x3DpIf+qAmifiZrLXbLbxpYYwVMuzmYlP6xK6yatVVQuRTcYkjaE5O0d8xraCprq7DF90Pp42CLqrf6If1kTJsraiZGsxUfYfPPB7vrbUg/JucBjP+I5p2/6lvs1tPBzWfHLbfq35OkXph2szGOhr5L5DXl+q0gIgmhpLCUR656gtdnzaeyvBKArA6ZjJl0IqdcOQrHUeNeJNiyV7AFE+t51gdJB2LaP6vQ10TWBqDyKyAISfvXuvjb4Ebs5mOr10bZNWgbIBnT4ZUmT34WCpajoGoVdd8iciDtZJzsm5v2lxFpBAURabFKCkr47ssf8CUn0bNvd5JTYnuboDWwxQ9ji+8gdOc2SKjDZfUFNGem5l+IMFt8b6jVJMzkW6SfhZM1pWmvW/EJdmtDfVBSMB3fVSdOibimXL81fFcSSkZ2Br0P39/rMlo002YcpB6HLXsGqr4Bk45JPR78R2GM3jIizZbPI/ww3yAE5gFNCyJU/o9QmAz32hWhW3FRWq9HpDH0riIiuzFJ3TGZf/K6jNbBVjRin0AzXthHw4u/gS4D4jX9BIpIq2SthcrPsIG3wVZgknuHpsQ3KbEtJPlgCH5L/UN9faF9mso/BIoaCCImC5J7N/21RSJIQUREWh3rbsXmXxQahYMPMFiqoPCm0Kq4/sNjVovJOANb/lyYPYKY9DOb/rpJPbD+YRBYSN0hx2AyzsEYf5NfWySSNNRARFoVa4PYredVr84KoYt0VfWThdj8cTFd4M8k99lp7ZOdZ2KtfnvO+CPG/4vmvXb27ZB0YO3X236O1BMh48Jmva5IJEUliKxZs4bzzjuPHj16kJaWxt57780NN9xARUUj7oWKiERTYCFUfUHdrQQuEMSWPBrTkkybCzA5j0DKIEIN1T5I7o9p+wDOz5g51jjZmPZPYdreB/7hkNwPUn8Tmj8k+68YE24KepHYiMqtmeXLl+O6LjNmzGCfffZh2bJljBs3jpKSEu64445onFJEpFFs+WvUDEmuUxDKX8HaW2M6X4rxD8X4h7J9RoVInduYJEg9FpN6bEReTyTSohJERowYwYgRI2q+7tmzJytWrGD69OkKIiLiLVtCg6viEiAUVGLXjc5WfRsKQG4BxpeHTTsR47SN/nmtheCa0PfFtwfGyYn6OVs66+ZD2XPY8jdDE9Ul98Gkn45JPrDhg1uhmP2WFRQU0K5d+BUyA4EAgcCOYWqFhVpRVUQiLGkvCGyfrK0eTteYzZlibQW24Doon8uOjrNBKLoVsq7BpJ8evXOXv4EtuhuCq6q3+LD+4zBZV2F8WkiyOWzlF9it54RWqt4+fLpqJbbsWWhzGaaN+uXsKiadVVevXs29997LBRdcEHa/adOmkZ2dXfPIy8uLRXki0oqYtFMI3yJiMBlNH6XSXLbwL1D+fPVX2zvOWqASW/hn3JLHonPe0mex2y6G4OqdtgYh8Dp2y8nY4PqonLcls7YMm39e9bpCOw+dDoVeW/x3bPl/PaktnjUpiEyePBljTNjH8uXLax2zbt06RowYwZgxYxg3blzY158yZQoFBQU1j7Vr1zb9byQiEoZJ6o5ps70D6K79MBxI7gvNGC7bHDa4HsqeJezEY0W34JbOjex53aJQAAp9tcuzQXC3Yov+HtFzJjprXWzVD9iqtVhbT2ta2SvgbqX+oOtgSx6JVokJq0ltj5dffjnnnHNO2H169uxZ8+cff/yRYcOGMXjwYB566KEGX9/v9+P3a0y7iESXaXMB+PbAFk/fcVvCZEL6aZiM8RiTGptCyt9s3H6Fk7HJ+4cmXYvIeV8Cwo1iDEL5S1j3ula/Oq+1LpQ+ji35B7jVrUROR8gYC+nn1Bp5ZCveJ3xHaBcqP8LaKi2XsJMmfSdyc3PJzc1t1L7r1q1j2LBh9OvXj5kzZ2p1VBGJKybtBEgdCe6G0DTrvs6xn1XVlrBjccFwDLbkcUzbWyNz2qrvCV0wq8LsVQnuJmjFQcRaiy2YUt1/ZyfuRmzRbVC5DLL/hjHbr28ujZtWP27XmvVEVNLBunXrOProo+nevTt33HEHmzZtYv369axfr3uOIhI/jDEYX+fQ7ZpYhxCApB40HEIAXKh4J2KnNU4WjboYmsyInTMhVSzaPYTsrPxlCLxd86VJPpTw31cDSb0xRquG7ywqQeTNN99k9erVzJs3j27dutGlS5eah4iIVPMPA9PY4bINDTlugtSRhA9ADiQPxPg6RO6cCciWPknt2W535avep1raaDBp7N73qOYVMRljI1ZfSxGVIHLOOeeEmrTqeIiISIgxKZi2t1P/hWs7HyQPiNx5k7pD6u/qOW9om8mcELHzJayq1YQPbEGoWlXzlXEyMW0fAFKoHWCq/5x2BqT+JvJ1Jjh13BAR8ZDxHwXZdzawVxCTcXZkz5v9F0g7mVDwcKjpMmiyMG3vw6QMjOj5EpJpRP8Yp/btK+MfjOnwMqT/AZwu4LSHlMGYtjMwWdfHdLbeRKFuuyIiHnPSRmKpwhZcSSgYbL8NExqBYTKvwqT0i+g5jUnBZE/FthkfGr1ji8G3F6T+ypv+MnHIpI3EFn1B/f0+HEzqCbsfl9Qdk3U1ZF0d1fpaCgUREZE4YNJGQdJ+2JLHqzumupA8AJNxVsRDSK3z+rpChFtbWoy0k6HkH9Vzg+x6i8YHTjakn+JFZS2KgoiISJwwyQdg2k7zugypZpxsaPcENv+C0Ho8NZfMKvB1xeTMwDjhly6RhimIiIiI1MMk9YAOr0HFImzFh6Ftyf3BP7TWZGbSfAoiIiIiYRjjhIKHf6jXpbRIGjUjIiIinlGLiIi0ONZaqPwftvxlsIUYXx6k/U5L24vEIQUREWlRrC3DbrsMAv9l+0RSFgvF90CbyzBt/uhtgSJSi27NiEiLYguuhsD86q+C1Y/QYmS2+E5s6b89q01EdqcgIiIthq36HspfIdy6LLbkvtDS7iISFxRERCQmbMVi3PwLcNf3wV3fG3fLadjy1yK7BlVgHg2u2xL8AYLfRO6cIvKzKIiISNTZ0jnYrWdCYCFQAVRB5afYbROwRVMjF0ZsOQ0vIAfYssicT0R+NgUREYkqW/UNtvDG6q92nia7+vZI6eMQeDsyJ0val/CrpQIkga97ZM4nIj+bgoiIRJUtfYrwbzU+bOk/I3My/9Hg5IY5nw9STwhN3S0icUFBRESiq/JTwrdSBKHyfxE5lTFJmLZ/JzQzwa7Tb/tC64NkXhWRczWVtWXY8rewZf/GVnwc2b4xIglM84iISHQ1akn55AiebiC0fxZb/CAE3gCCYNpA2imYNhdgnJyInasxrLVQ+ii2+H6wJTue8O0F2bdgUvrHtB6ReKMgIiJRZfzDsBVLgPpaAHyQ+svInjP5AEzO3VhbAbYUTKZ3C5SVPIAtvnv37cHvsVvPhvZPYpL7xr4ukTihWzMiEl1pJ4HJpO63GwMYTPrZUTm1MSkYp61nIcS6W0MtIXVygSC26M5YliQSdxRERCSqjNMW0+4f1WHEsGN4rQMkYdrejUnez7sCo6n8VcL3j3Gh4j1scEOsKhKJO7o1IyJRZ5L7Qu7bUP4CNvAu2CAm5RBIG4PxdfC6vKixwc2EOs1Whd/R3QK+TrEoSSTuKIiISEwYpw2kn4FJP8PrUmLG+DpiG5zXxFQPORZpnXRrRkQkWlKPJ/znPR+kHInxKYhI66UgIiISJcZpi8m8rJ5nHSAZk3l5LEsSiTsKIiIiUWQy/g+T9Wcwu8xfktQL034OJvkAT+oSiRfqIyIiEmUm/XRIGwMVS8AWga+7AohINQUREZEYMCYZ/IO9LkMk7ujWjIiIiHhGQUREREQ8oyAiIiIinlEQEREREc8oiIiIiIhnFERERETEMwoiIiIi4hkFEREREfGMgoiIiIh4Jq5nVrXWAlBYWOhxJSIiItJY26/b26/j4cR1ECkqKgIgLy/P40pERESkqYqKisjOzg67j7GNiSsecV2XH3/8kczMTIwxXpfToMLCQvLy8li7di1ZWVlel5NQ9L1rPn3vmkfft+bT9675Wsv3zlpLUVERXbt2xXHC9wKJ6xYRx3Ho1q2b12U0WVZWVov+AYsmfe+aT9+75tH3rfn0vWu+1vC9a6glZDt1VhURERHPKIiIiIiIZxREIsjv93PDDTfg9/u9LiXh6HvXfPreNY++b82n713z6Xu3u7jurCoiIiItm1pERERExDMKIiIiIuIZBRERERHxjIKIiIiIeEZBJArWrFnDeeedR48ePUhLS2PvvffmhhtuoKKiwuvS4tL999/PXnvtRWpqKoMGDWLx4sVelxT3pk2bxoABA8jMzKRjx46MHj2aFStWeF1WQrr11lsxxjBx4kSvS0kI69at48wzz6R9+/akpaVx0EEH8dFHH3ldVtwLBoNcd911ta4LN910U6PWYmnp4npm1US1fPlyXNdlxowZ7LPPPixbtoxx48ZRUlLCHXfc4XV5ceXpp59m0qRJPPjggwwaNIi77rqL4447jhUrVtCxY0evy4tbCxYsYPz48QwYMICqqiquvvpqjj32WL788ksyMjK8Li9hLFmyhBkzZtC3b1+vS0kI+fn5DBkyhGHDhvHqq6+Sm5vLqlWryMnJ8bq0uHfbbbcxffp0Zs2axYEHHshHH33E2LFjyc7OZsKECV6X5ykN342Rv/71r0yfPp1vvvnG61LiyqBBgxgwYAD33XcfEFpfKC8vj0suuYTJkyd7XF3i2LRpEx07dmTBggUMHTrU63ISQnFxMYcddhgPPPAAN998M4cccgh33XWX12XFtcmTJ/Puu+/yzjvveF1KwjnhhBPo1KkTjz76aM22k046ibS0NJ544gkPK/Oebs3ESEFBAe3atfO6jLhSUVHBxx9/zPDhw2u2OY7D8OHDef/99z2sLPEUFBQA6GesCcaPH8/IkSNr/fxJeC+++CL9+/dnzJgxdOzYkUMPPZSHH37Y67ISwuDBg5k3bx4rV64E4LPPPmPRokUcf/zxHlfmPd2aiYHVq1dz77336rbMLjZv3kwwGKRTp061tnfq1Inly5d7VFXicV2XiRMnMmTIEPr06eN1OQnhqaeeYunSpSxZssTrUhLKN998w/Tp05k0aRJXX301S5YsYcKECaSkpHD22Wd7XV5cmzx5MoWFhfTq1Qufz0cwGGTq1KmcccYZXpfmObWINMHkyZMxxoR97HoBXbduHSNGjGDMmDGMGzfOo8qlJRs/fjzLli3jqaee8rqUhLB27VouvfRSZs+eTWpqqtflJBTXdTnssMO45ZZbOPTQQzn//PMZN24cDz74oNelxb1nnnmG2bNnM2fOHJYuXcqsWbO44447mDVrlteleU4tIk1w+eWXc84554Tdp2fPnjV//vHHHxk2bBiDBw/moYceinJ1iadDhw74fD42bNhQa/uGDRvo3LmzR1UllosvvpiXXnqJhQsX0q1bN6/LSQgff/wxGzdu5LDDDqvZFgwGWbhwIffddx+BQACfz+dhhfGrS5cu9O7du9a2Aw44gOeee86jihLHFVdcweTJkznttNMAOOigg/juu++YNm1aq29NUhBpgtzcXHJzcxu177p16xg2bBj9+vVj5syZOI4an3aVkpJCv379mDdvHqNHjwZCn7jmzZvHxRdf7G1xcc5ayyWXXMLcuXOZP38+PXr08LqkhPHLX/6Szz//vNa2sWPH0qtXL6666iqFkDCGDBmy2zDxlStXsueee3pUUeIoLS3d7Trg8/lwXdejiuKHgkgUrFu3jqOPPpo999yTO+64g02bNtU8p0/6tU2aNImzzz6b/v37M3DgQO666y5KSkoYO3as16XFtfHjxzNnzhxeeOEFMjMzWb9+PQDZ2dmkpaV5XF18y8zM3K0vTUZGBu3bt1cfmwZcdtllDB48mFtuuYVTTjmFxYsX89BDD6nFtxFOPPFEpk6dSvfu3TnwwAP55JNPuPPOOzn33HO9Ls17ViJu5syZFqjzIbu79957bffu3W1KSoodOHCg/eCDD7wuKe7V9/M1c+ZMr0tLSEcddZS99NJLvS4jIfznP/+xffr0sX6/3/bq1cs+9NBDXpeUEAoLC+2ll15qu3fvblNTU23Pnj3tNddcYwOBgNeleU7ziIiIiIhn1HFBREREPKMgIiIiIp5REBERERHPKIiIiIiIZxRERERExDMKIiIiIuIZBRERERHxjIKIiIiIeEZBRERERDyjICIiIiKeURARERERzyiIiIiIiGf+H6uXSrLRl3JgAAAAAElFTkSuQmCC",
      "text/plain": [
       "<Figure size 640x480 with 1 Axes>"
      ]
     },
     "metadata": {},
     "output_type": "display_data"
    }
   ],
   "source": [
    "plt.scatter(scores[0], scores[1], c=k_means.labels_)"
   ]
  },
  {
   "cell_type": "markdown",
   "metadata": {},
   "source": [
    "(8)"
   ]
  },
  {
   "cell_type": "code",
   "execution_count": 46,
   "metadata": {},
   "outputs": [],
   "source": [
    "x_scaled = scale(x, axis=0)\n",
    "y = kidney_new['classification']\n"
   ]
  },
  {
   "cell_type": "code",
   "execution_count": 87,
   "metadata": {},
   "outputs": [
    {
     "ename": "ValueError",
     "evalue": "Found input variables with inconsistent numbers of samples: [158, 400]",
     "output_type": "error",
     "traceback": [
      "\u001b[1;31m---------------------------------------------------------------------------\u001b[0m",
      "\u001b[1;31mValueError\u001b[0m                                Traceback (most recent call last)",
      "Cell \u001b[1;32mIn[87], line 1\u001b[0m\n\u001b[1;32m----> 1\u001b[0m x_train, x_test, y_train, y_test \u001b[38;5;241m=\u001b[39m \u001b[43mtrain_test_split\u001b[49m\u001b[43m(\u001b[49m\n\u001b[0;32m      2\u001b[0m \u001b[43m    \u001b[49m\u001b[43mx_scaled\u001b[49m\u001b[43m,\u001b[49m\n\u001b[0;32m      3\u001b[0m \u001b[43m    \u001b[49m\u001b[43my\u001b[49m\u001b[43m,\u001b[49m\n\u001b[0;32m      4\u001b[0m \u001b[43m    \u001b[49m\u001b[43mtest_size\u001b[49m\u001b[38;5;241;43m=\u001b[39;49m\u001b[38;5;241;43m0.3\u001b[39;49m\u001b[43m,\u001b[49m\n\u001b[0;32m      5\u001b[0m \u001b[43m    \u001b[49m\u001b[43mrandom_state\u001b[49m\u001b[38;5;241;43m=\u001b[39;49m\u001b[38;5;241;43m1\u001b[39;49m\u001b[43m,\u001b[49m\n\u001b[0;32m      6\u001b[0m \u001b[43m    \u001b[49m\u001b[43mstratify\u001b[49m\u001b[38;5;241;43m=\u001b[39;49m\u001b[43my\u001b[49m\n\u001b[0;32m      7\u001b[0m \u001b[43m)\u001b[49m\n",
      "File \u001b[1;32mc:\\Users\\siyin\\Desktop\\3daa6\\.venv\\Lib\\site-packages\\sklearn\\utils\\_param_validation.py:213\u001b[0m, in \u001b[0;36mvalidate_params.<locals>.decorator.<locals>.wrapper\u001b[1;34m(*args, **kwargs)\u001b[0m\n\u001b[0;32m    207\u001b[0m \u001b[38;5;28;01mtry\u001b[39;00m:\n\u001b[0;32m    208\u001b[0m     \u001b[38;5;28;01mwith\u001b[39;00m config_context(\n\u001b[0;32m    209\u001b[0m         skip_parameter_validation\u001b[38;5;241m=\u001b[39m(\n\u001b[0;32m    210\u001b[0m             prefer_skip_nested_validation \u001b[38;5;129;01mor\u001b[39;00m global_skip_validation\n\u001b[0;32m    211\u001b[0m         )\n\u001b[0;32m    212\u001b[0m     ):\n\u001b[1;32m--> 213\u001b[0m         \u001b[38;5;28;01mreturn\u001b[39;00m \u001b[43mfunc\u001b[49m\u001b[43m(\u001b[49m\u001b[38;5;241;43m*\u001b[39;49m\u001b[43margs\u001b[49m\u001b[43m,\u001b[49m\u001b[43m \u001b[49m\u001b[38;5;241;43m*\u001b[39;49m\u001b[38;5;241;43m*\u001b[39;49m\u001b[43mkwargs\u001b[49m\u001b[43m)\u001b[49m\n\u001b[0;32m    214\u001b[0m \u001b[38;5;28;01mexcept\u001b[39;00m InvalidParameterError \u001b[38;5;28;01mas\u001b[39;00m e:\n\u001b[0;32m    215\u001b[0m     \u001b[38;5;66;03m# When the function is just a wrapper around an estimator, we allow\u001b[39;00m\n\u001b[0;32m    216\u001b[0m     \u001b[38;5;66;03m# the function to delegate validation to the estimator, but we replace\u001b[39;00m\n\u001b[0;32m    217\u001b[0m     \u001b[38;5;66;03m# the name of the estimator by the name of the function in the error\u001b[39;00m\n\u001b[0;32m    218\u001b[0m     \u001b[38;5;66;03m# message to avoid confusion.\u001b[39;00m\n\u001b[0;32m    219\u001b[0m     msg \u001b[38;5;241m=\u001b[39m re\u001b[38;5;241m.\u001b[39msub(\n\u001b[0;32m    220\u001b[0m         \u001b[38;5;124mr\u001b[39m\u001b[38;5;124m\"\u001b[39m\u001b[38;5;124mparameter of \u001b[39m\u001b[38;5;124m\\\u001b[39m\u001b[38;5;124mw+ must be\u001b[39m\u001b[38;5;124m\"\u001b[39m,\n\u001b[0;32m    221\u001b[0m         \u001b[38;5;124mf\u001b[39m\u001b[38;5;124m\"\u001b[39m\u001b[38;5;124mparameter of \u001b[39m\u001b[38;5;132;01m{\u001b[39;00mfunc\u001b[38;5;241m.\u001b[39m\u001b[38;5;18m__qualname__\u001b[39m\u001b[38;5;132;01m}\u001b[39;00m\u001b[38;5;124m must be\u001b[39m\u001b[38;5;124m\"\u001b[39m,\n\u001b[0;32m    222\u001b[0m         \u001b[38;5;28mstr\u001b[39m(e),\n\u001b[0;32m    223\u001b[0m     )\n",
      "File \u001b[1;32mc:\\Users\\siyin\\Desktop\\3daa6\\.venv\\Lib\\site-packages\\sklearn\\model_selection\\_split.py:2657\u001b[0m, in \u001b[0;36mtrain_test_split\u001b[1;34m(test_size, train_size, random_state, shuffle, stratify, *arrays)\u001b[0m\n\u001b[0;32m   2654\u001b[0m \u001b[38;5;28;01mif\u001b[39;00m n_arrays \u001b[38;5;241m==\u001b[39m \u001b[38;5;241m0\u001b[39m:\n\u001b[0;32m   2655\u001b[0m     \u001b[38;5;28;01mraise\u001b[39;00m \u001b[38;5;167;01mValueError\u001b[39;00m(\u001b[38;5;124m\"\u001b[39m\u001b[38;5;124mAt least one array required as input\u001b[39m\u001b[38;5;124m\"\u001b[39m)\n\u001b[1;32m-> 2657\u001b[0m arrays \u001b[38;5;241m=\u001b[39m \u001b[43mindexable\u001b[49m\u001b[43m(\u001b[49m\u001b[38;5;241;43m*\u001b[39;49m\u001b[43marrays\u001b[49m\u001b[43m)\u001b[49m\n\u001b[0;32m   2659\u001b[0m n_samples \u001b[38;5;241m=\u001b[39m _num_samples(arrays[\u001b[38;5;241m0\u001b[39m])\n\u001b[0;32m   2660\u001b[0m n_train, n_test \u001b[38;5;241m=\u001b[39m _validate_shuffle_split(\n\u001b[0;32m   2661\u001b[0m     n_samples, test_size, train_size, default_test_size\u001b[38;5;241m=\u001b[39m\u001b[38;5;241m0.25\u001b[39m\n\u001b[0;32m   2662\u001b[0m )\n",
      "File \u001b[1;32mc:\\Users\\siyin\\Desktop\\3daa6\\.venv\\Lib\\site-packages\\sklearn\\utils\\validation.py:514\u001b[0m, in \u001b[0;36mindexable\u001b[1;34m(*iterables)\u001b[0m\n\u001b[0;32m    484\u001b[0m \u001b[38;5;250m\u001b[39m\u001b[38;5;124;03m\"\"\"Make arrays indexable for cross-validation.\u001b[39;00m\n\u001b[0;32m    485\u001b[0m \n\u001b[0;32m    486\u001b[0m \u001b[38;5;124;03mChecks consistent length, passes through None, and ensures that everything\u001b[39;00m\n\u001b[1;32m   (...)\u001b[0m\n\u001b[0;32m    510\u001b[0m \u001b[38;5;124;03m[[1, 2, 3], array([2, 3, 4]), None, <3x1 sparse matrix ...>]\u001b[39;00m\n\u001b[0;32m    511\u001b[0m \u001b[38;5;124;03m\"\"\"\u001b[39;00m\n\u001b[0;32m    513\u001b[0m result \u001b[38;5;241m=\u001b[39m [_make_indexable(X) \u001b[38;5;28;01mfor\u001b[39;00m X \u001b[38;5;129;01min\u001b[39;00m iterables]\n\u001b[1;32m--> 514\u001b[0m \u001b[43mcheck_consistent_length\u001b[49m\u001b[43m(\u001b[49m\u001b[38;5;241;43m*\u001b[39;49m\u001b[43mresult\u001b[49m\u001b[43m)\u001b[49m\n\u001b[0;32m    515\u001b[0m \u001b[38;5;28;01mreturn\u001b[39;00m result\n",
      "File \u001b[1;32mc:\\Users\\siyin\\Desktop\\3daa6\\.venv\\Lib\\site-packages\\sklearn\\utils\\validation.py:457\u001b[0m, in \u001b[0;36mcheck_consistent_length\u001b[1;34m(*arrays)\u001b[0m\n\u001b[0;32m    455\u001b[0m uniques \u001b[38;5;241m=\u001b[39m np\u001b[38;5;241m.\u001b[39munique(lengths)\n\u001b[0;32m    456\u001b[0m \u001b[38;5;28;01mif\u001b[39;00m \u001b[38;5;28mlen\u001b[39m(uniques) \u001b[38;5;241m>\u001b[39m \u001b[38;5;241m1\u001b[39m:\n\u001b[1;32m--> 457\u001b[0m     \u001b[38;5;28;01mraise\u001b[39;00m \u001b[38;5;167;01mValueError\u001b[39;00m(\n\u001b[0;32m    458\u001b[0m         \u001b[38;5;124m\"\u001b[39m\u001b[38;5;124mFound input variables with inconsistent numbers of samples: \u001b[39m\u001b[38;5;132;01m%r\u001b[39;00m\u001b[38;5;124m\"\u001b[39m\n\u001b[0;32m    459\u001b[0m         \u001b[38;5;241m%\u001b[39m [\u001b[38;5;28mint\u001b[39m(l) \u001b[38;5;28;01mfor\u001b[39;00m l \u001b[38;5;129;01min\u001b[39;00m lengths]\n\u001b[0;32m    460\u001b[0m     )\n",
      "\u001b[1;31mValueError\u001b[0m: Found input variables with inconsistent numbers of samples: [158, 400]"
     ]
    }
   ],
   "source": [
    "x_train, x_test, y_train, y_test = train_test_split(\n",
    "    x_scaled,\n",
    "    y,\n",
    "    test_size=0.3,\n",
    "    random_state=1,\n",
    "    stratify=y\n",
    ")\n"
   ]
  },
  {
   "cell_type": "markdown",
   "metadata": {},
   "source": [
    "(9)"
   ]
  },
  {
   "cell_type": "markdown",
   "metadata": {},
   "source": [
    "(10)"
   ]
  },
  {
   "cell_type": "code",
   "execution_count": null,
   "metadata": {},
   "outputs": [],
   "source": [
    "k_5 = neighbors.KNeighborsClassifier(\n",
    "    n_neighbors = 2,\n",
    "    algorithm='brute'\n",
    "    )"
   ]
  },
  {
   "cell_type": "code",
   "execution_count": null,
   "metadata": {},
   "outputs": [
    {
     "ename": "ValueError",
     "evalue": "Unknown label type: continuous. Maybe you are trying to fit a classifier, which expects discrete classes on a regression target with continuous values.",
     "output_type": "error",
     "traceback": [
      "\u001b[0;31m---------------------------------------------------------------------------\u001b[0m",
      "\u001b[0;31mValueError\u001b[0m                                Traceback (most recent call last)",
      "Cell \u001b[0;32mIn[344], line 1\u001b[0m\n\u001b[0;32m----> 1\u001b[0m \u001b[43mk_5\u001b[49m\u001b[38;5;241;43m.\u001b[39;49m\u001b[43mfit\u001b[49m\u001b[43m(\u001b[49m\u001b[43mx_train\u001b[49m\u001b[43m,\u001b[49m\u001b[43m \u001b[49m\u001b[43my_train\u001b[49m\u001b[43m)\u001b[49m\n",
      "File \u001b[0;32m~/Desktop/3da/vscode_file/.venv/lib/python3.11/site-packages/sklearn/base.py:1474\u001b[0m, in \u001b[0;36m_fit_context.<locals>.decorator.<locals>.wrapper\u001b[0;34m(estimator, *args, **kwargs)\u001b[0m\n\u001b[1;32m   1467\u001b[0m     estimator\u001b[38;5;241m.\u001b[39m_validate_params()\n\u001b[1;32m   1469\u001b[0m \u001b[38;5;28;01mwith\u001b[39;00m config_context(\n\u001b[1;32m   1470\u001b[0m     skip_parameter_validation\u001b[38;5;241m=\u001b[39m(\n\u001b[1;32m   1471\u001b[0m         prefer_skip_nested_validation \u001b[38;5;129;01mor\u001b[39;00m global_skip_validation\n\u001b[1;32m   1472\u001b[0m     )\n\u001b[1;32m   1473\u001b[0m ):\n\u001b[0;32m-> 1474\u001b[0m     \u001b[38;5;28;01mreturn\u001b[39;00m \u001b[43mfit_method\u001b[49m\u001b[43m(\u001b[49m\u001b[43mestimator\u001b[49m\u001b[43m,\u001b[49m\u001b[43m \u001b[49m\u001b[38;5;241;43m*\u001b[39;49m\u001b[43margs\u001b[49m\u001b[43m,\u001b[49m\u001b[43m \u001b[49m\u001b[38;5;241;43m*\u001b[39;49m\u001b[38;5;241;43m*\u001b[39;49m\u001b[43mkwargs\u001b[49m\u001b[43m)\u001b[49m\n",
      "File \u001b[0;32m~/Desktop/3da/vscode_file/.venv/lib/python3.11/site-packages/sklearn/neighbors/_classification.py:238\u001b[0m, in \u001b[0;36mKNeighborsClassifier.fit\u001b[0;34m(self, X, y)\u001b[0m\n\u001b[1;32m    216\u001b[0m \u001b[38;5;129m@_fit_context\u001b[39m(\n\u001b[1;32m    217\u001b[0m     \u001b[38;5;66;03m# KNeighborsClassifier.metric is not validated yet\u001b[39;00m\n\u001b[1;32m    218\u001b[0m     prefer_skip_nested_validation\u001b[38;5;241m=\u001b[39m\u001b[38;5;28;01mFalse\u001b[39;00m\n\u001b[1;32m    219\u001b[0m )\n\u001b[1;32m    220\u001b[0m \u001b[38;5;28;01mdef\u001b[39;00m \u001b[38;5;21mfit\u001b[39m(\u001b[38;5;28mself\u001b[39m, X, y):\n\u001b[1;32m    221\u001b[0m \u001b[38;5;250m    \u001b[39m\u001b[38;5;124;03m\"\"\"Fit the k-nearest neighbors classifier from the training dataset.\u001b[39;00m\n\u001b[1;32m    222\u001b[0m \n\u001b[1;32m    223\u001b[0m \u001b[38;5;124;03m    Parameters\u001b[39;00m\n\u001b[0;32m   (...)\u001b[0m\n\u001b[1;32m    236\u001b[0m \u001b[38;5;124;03m        The fitted k-nearest neighbors classifier.\u001b[39;00m\n\u001b[1;32m    237\u001b[0m \u001b[38;5;124;03m    \"\"\"\u001b[39;00m\n\u001b[0;32m--> 238\u001b[0m     \u001b[38;5;28;01mreturn\u001b[39;00m \u001b[38;5;28;43mself\u001b[39;49m\u001b[38;5;241;43m.\u001b[39;49m\u001b[43m_fit\u001b[49m\u001b[43m(\u001b[49m\u001b[43mX\u001b[49m\u001b[43m,\u001b[49m\u001b[43m \u001b[49m\u001b[43my\u001b[49m\u001b[43m)\u001b[49m\n",
      "File \u001b[0;32m~/Desktop/3da/vscode_file/.venv/lib/python3.11/site-packages/sklearn/neighbors/_base.py:500\u001b[0m, in \u001b[0;36mNeighborsBase._fit\u001b[0;34m(self, X, y)\u001b[0m\n\u001b[1;32m    497\u001b[0m \u001b[38;5;28;01melse\u001b[39;00m:\n\u001b[1;32m    498\u001b[0m     \u001b[38;5;28mself\u001b[39m\u001b[38;5;241m.\u001b[39moutputs_2d_ \u001b[38;5;241m=\u001b[39m \u001b[38;5;28;01mTrue\u001b[39;00m\n\u001b[0;32m--> 500\u001b[0m \u001b[43mcheck_classification_targets\u001b[49m\u001b[43m(\u001b[49m\u001b[43my\u001b[49m\u001b[43m)\u001b[49m\n\u001b[1;32m    501\u001b[0m \u001b[38;5;28mself\u001b[39m\u001b[38;5;241m.\u001b[39mclasses_ \u001b[38;5;241m=\u001b[39m []\n\u001b[1;32m    502\u001b[0m \u001b[38;5;66;03m# Using `dtype=np.intp` is necessary since `np.bincount`\u001b[39;00m\n\u001b[1;32m    503\u001b[0m \u001b[38;5;66;03m# (called in _classification.py) fails when dealing\u001b[39;00m\n\u001b[1;32m    504\u001b[0m \u001b[38;5;66;03m# with a float64 array on 32bit systems.\u001b[39;00m\n",
      "File \u001b[0;32m~/Desktop/3da/vscode_file/.venv/lib/python3.11/site-packages/sklearn/utils/multiclass.py:221\u001b[0m, in \u001b[0;36mcheck_classification_targets\u001b[0;34m(y)\u001b[0m\n\u001b[1;32m    213\u001b[0m y_type \u001b[38;5;241m=\u001b[39m type_of_target(y, input_name\u001b[38;5;241m=\u001b[39m\u001b[38;5;124m\"\u001b[39m\u001b[38;5;124my\u001b[39m\u001b[38;5;124m\"\u001b[39m)\n\u001b[1;32m    214\u001b[0m \u001b[38;5;28;01mif\u001b[39;00m y_type \u001b[38;5;129;01mnot\u001b[39;00m \u001b[38;5;129;01min\u001b[39;00m [\n\u001b[1;32m    215\u001b[0m     \u001b[38;5;124m\"\u001b[39m\u001b[38;5;124mbinary\u001b[39m\u001b[38;5;124m\"\u001b[39m,\n\u001b[1;32m    216\u001b[0m     \u001b[38;5;124m\"\u001b[39m\u001b[38;5;124mmulticlass\u001b[39m\u001b[38;5;124m\"\u001b[39m,\n\u001b[0;32m   (...)\u001b[0m\n\u001b[1;32m    219\u001b[0m     \u001b[38;5;124m\"\u001b[39m\u001b[38;5;124mmultilabel-sequences\u001b[39m\u001b[38;5;124m\"\u001b[39m,\n\u001b[1;32m    220\u001b[0m ]:\n\u001b[0;32m--> 221\u001b[0m     \u001b[38;5;28;01mraise\u001b[39;00m \u001b[38;5;167;01mValueError\u001b[39;00m(\n\u001b[1;32m    222\u001b[0m         \u001b[38;5;124mf\u001b[39m\u001b[38;5;124m\"\u001b[39m\u001b[38;5;124mUnknown label type: \u001b[39m\u001b[38;5;132;01m{\u001b[39;00my_type\u001b[38;5;132;01m}\u001b[39;00m\u001b[38;5;124m. Maybe you are trying to fit a \u001b[39m\u001b[38;5;124m\"\u001b[39m\n\u001b[1;32m    223\u001b[0m         \u001b[38;5;124m\"\u001b[39m\u001b[38;5;124mclassifier, which expects discrete classes on a \u001b[39m\u001b[38;5;124m\"\u001b[39m\n\u001b[1;32m    224\u001b[0m         \u001b[38;5;124m\"\u001b[39m\u001b[38;5;124mregression target with continuous values.\u001b[39m\u001b[38;5;124m\"\u001b[39m\n\u001b[1;32m    225\u001b[0m     )\n",
      "\u001b[0;31mValueError\u001b[0m: Unknown label type: continuous. Maybe you are trying to fit a classifier, which expects discrete classes on a regression target with continuous values."
     ]
    }
   ],
   "source": [
    "k_5.fit(x_train, y_train)\n"
   ]
  }
 ],
 "metadata": {
  "kernelspec": {
   "display_name": ".venv",
   "language": "python",
   "name": "python3"
  },
  "language_info": {
   "codemirror_mode": {
    "name": "ipython",
    "version": 3
   },
   "file_extension": ".py",
   "mimetype": "text/x-python",
   "name": "python",
   "nbconvert_exporter": "python",
   "pygments_lexer": "ipython3",
   "version": "3.11.9"
  }
 },
 "nbformat": 4,
 "nbformat_minor": 2
}
